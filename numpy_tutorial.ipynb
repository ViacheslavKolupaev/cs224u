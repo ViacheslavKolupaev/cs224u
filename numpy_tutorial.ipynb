{
  "nbformat": 4,
  "nbformat_minor": 0,
  "metadata": {
    "anaconda-cloud": {},
    "kernelspec": {
      "name": "python3",
      "display_name": "Python 3"
    },
    "colab": {
      "name": "numpy_tutorial.ipynb",
      "version": "0.3.2",
      "provenance": []
    }
  },
  "cells": [
    {
      "cell_type": "markdown",
      "metadata": {
        "id": "-mLd7YLEcexu",
        "colab_type": "text"
      },
      "source": [
        "# Introduction to NumPy\n",
        "\n",
        "This notebook is the first half of a special session on NumPy and PyTorch for CS 224U. \n",
        "\n",
        "Why should we care about NumPy? \n",
        "- It allows you to perform tons of operations on vectors and matrices. \n",
        "- It makes things run faster than naive for-loop implementations (a.k.a. vectorization). \n",
        "- We use it in our class (see files prefixed with `np_` in your cs224u directory). \n",
        "- It's used a ton in machine learning / AI. \n",
        "- Its arrays are often inputs into other important Python packages' functions. \n",
        "\n",
        "In Jupyter notebooks, NumPy documentation is two clicks away: Help -> NumPy reference. "
      ]
    },
    {
      "cell_type": "code",
      "metadata": {
        "id": "Mp15vbfVcexx",
        "colab_type": "code",
        "colab": {}
      },
      "source": [
        "__author__ = 'Will Monroe, Chris Potts, and Lucy Li'"
      ],
      "execution_count": 0,
      "outputs": []
    },
    {
      "cell_type": "code",
      "metadata": {
        "id": "ABGsaGW2cex0",
        "colab_type": "code",
        "colab": {}
      },
      "source": [
        "import numpy as np"
      ],
      "execution_count": 0,
      "outputs": []
    },
    {
      "cell_type": "markdown",
      "metadata": {
        "id": "_KnLhSpucex2",
        "colab_type": "text"
      },
      "source": [
        "# Vectors\n",
        "## Vector Initialization"
      ]
    },
    {
      "cell_type": "code",
      "metadata": {
        "id": "jQC6-YGocex3",
        "colab_type": "code",
        "colab": {
          "base_uri": "https://localhost:8080/",
          "height": 34
        },
        "outputId": "bbc7d531-eb9f-4527-92bc-b05cfdd32db5"
      },
      "source": [
        "np.zeros(5)"
      ],
      "execution_count": 4,
      "outputs": [
        {
          "output_type": "execute_result",
          "data": {
            "text/plain": [
              "array([0., 0., 0., 0., 0.])"
            ]
          },
          "metadata": {
            "tags": []
          },
          "execution_count": 4
        }
      ]
    },
    {
      "cell_type": "code",
      "metadata": {
        "id": "gyjdcjLLcex6",
        "colab_type": "code",
        "colab": {
          "base_uri": "https://localhost:8080/",
          "height": 34
        },
        "outputId": "d4719fde-d344-4283-b928-ec426a7c3f3f"
      },
      "source": [
        "np.ones(5)"
      ],
      "execution_count": 5,
      "outputs": [
        {
          "output_type": "execute_result",
          "data": {
            "text/plain": [
              "array([1., 1., 1., 1., 1.])"
            ]
          },
          "metadata": {
            "tags": []
          },
          "execution_count": 5
        }
      ]
    },
    {
      "cell_type": "code",
      "metadata": {
        "id": "o5c1YTvMcex8",
        "colab_type": "code",
        "colab": {
          "base_uri": "https://localhost:8080/",
          "height": 34
        },
        "outputId": "e3ef56e0-5503-4698-dcea-5ca80feb6f8e"
      },
      "source": [
        "# convert list to numpy array\n",
        "np.array([1,2,3,4,5])"
      ],
      "execution_count": 6,
      "outputs": [
        {
          "output_type": "execute_result",
          "data": {
            "text/plain": [
              "array([1, 2, 3, 4, 5])"
            ]
          },
          "metadata": {
            "tags": []
          },
          "execution_count": 6
        }
      ]
    },
    {
      "cell_type": "code",
      "metadata": {
        "id": "dB_Ad0Yccex-",
        "colab_type": "code",
        "colab": {
          "base_uri": "https://localhost:8080/",
          "height": 34
        },
        "outputId": "3375f182-1059-4515-94cd-72e04cb129df"
      },
      "source": [
        "# convert numpy array to list\n",
        "np.ones(5).tolist()"
      ],
      "execution_count": 7,
      "outputs": [
        {
          "output_type": "execute_result",
          "data": {
            "text/plain": [
              "[1.0, 1.0, 1.0, 1.0, 1.0]"
            ]
          },
          "metadata": {
            "tags": []
          },
          "execution_count": 7
        }
      ]
    },
    {
      "cell_type": "code",
      "metadata": {
        "id": "k5w2ha8ZceyA",
        "colab_type": "code",
        "colab": {
          "base_uri": "https://localhost:8080/",
          "height": 34
        },
        "outputId": "5bd20b62-d0dc-4f1b-cb26-19f8632c03f9"
      },
      "source": [
        "# one float => all floats\n",
        "np.array([1.0,2,3,4,5])"
      ],
      "execution_count": 8,
      "outputs": [
        {
          "output_type": "execute_result",
          "data": {
            "text/plain": [
              "array([1., 2., 3., 4., 5.])"
            ]
          },
          "metadata": {
            "tags": []
          },
          "execution_count": 8
        }
      ]
    },
    {
      "cell_type": "code",
      "metadata": {
        "id": "xqTqFOsWceyD",
        "colab_type": "code",
        "colab": {
          "base_uri": "https://localhost:8080/",
          "height": 34
        },
        "outputId": "c5c3eb33-a45d-474e-d017-0fbfa0453356"
      },
      "source": [
        "# same as above\n",
        "np.array([1,2,3,4,5], dtype='float')"
      ],
      "execution_count": 9,
      "outputs": [
        {
          "output_type": "execute_result",
          "data": {
            "text/plain": [
              "array([1., 2., 3., 4., 5.])"
            ]
          },
          "metadata": {
            "tags": []
          },
          "execution_count": 9
        }
      ]
    },
    {
      "cell_type": "code",
      "metadata": {
        "id": "uAk2pRQlceyF",
        "colab_type": "code",
        "colab": {
          "base_uri": "https://localhost:8080/",
          "height": 34
        },
        "outputId": "8a2b37f7-7ba9-459f-c2f6-875cb7ac2b60"
      },
      "source": [
        "# spaced values in interval\n",
        "np.array([x for x in range(20) if x % 2 == 0])"
      ],
      "execution_count": 10,
      "outputs": [
        {
          "output_type": "execute_result",
          "data": {
            "text/plain": [
              "array([ 0,  2,  4,  6,  8, 10, 12, 14, 16, 18])"
            ]
          },
          "metadata": {
            "tags": []
          },
          "execution_count": 10
        }
      ]
    },
    {
      "cell_type": "code",
      "metadata": {
        "id": "pv3mFg2MceyJ",
        "colab_type": "code",
        "colab": {
          "base_uri": "https://localhost:8080/",
          "height": 34
        },
        "outputId": "ff18ce28-f849-414d-fd65-8bd08feee592"
      },
      "source": [
        "# same as above\n",
        "np.arange(0,20,2)"
      ],
      "execution_count": 11,
      "outputs": [
        {
          "output_type": "execute_result",
          "data": {
            "text/plain": [
              "array([ 0,  2,  4,  6,  8, 10, 12, 14, 16, 18])"
            ]
          },
          "metadata": {
            "tags": []
          },
          "execution_count": 11
        }
      ]
    },
    {
      "cell_type": "code",
      "metadata": {
        "id": "th4v1HLfceyQ",
        "colab_type": "code",
        "colab": {
          "base_uri": "https://localhost:8080/",
          "height": 51
        },
        "outputId": "d8b49fd9-03e4-4afa-9f04-10dec05275b6"
      },
      "source": [
        "# random floats in [0, 1)\n",
        "np.random.random(10)"
      ],
      "execution_count": 12,
      "outputs": [
        {
          "output_type": "execute_result",
          "data": {
            "text/plain": [
              "array([0.37251764, 0.90866249, 0.13589718, 0.81441238, 0.53028324,\n",
              "       0.34409881, 0.70191522, 0.62752199, 0.72620414, 0.88047313])"
            ]
          },
          "metadata": {
            "tags": []
          },
          "execution_count": 12
        }
      ]
    },
    {
      "cell_type": "code",
      "metadata": {
        "id": "jzAywrIQceyS",
        "colab_type": "code",
        "colab": {
          "base_uri": "https://localhost:8080/",
          "height": 34
        },
        "outputId": "036d6384-d2f7-44e4-a016-e9f3504eae0c"
      },
      "source": [
        "# random integers\n",
        "np.random.randint(5, 15, size=10)"
      ],
      "execution_count": 15,
      "outputs": [
        {
          "output_type": "execute_result",
          "data": {
            "text/plain": [
              "array([11,  9, 14,  8,  6, 13,  9,  9, 10,  5])"
            ]
          },
          "metadata": {
            "tags": []
          },
          "execution_count": 15
        }
      ]
    },
    {
      "cell_type": "markdown",
      "metadata": {
        "id": "TBhBW2e-ceyU",
        "colab_type": "text"
      },
      "source": [
        "## Vector indexing"
      ]
    },
    {
      "cell_type": "code",
      "metadata": {
        "id": "dbFyC_Z-ceyU",
        "colab_type": "code",
        "colab": {}
      },
      "source": [
        "x = np.array([10,20,30,40,50])"
      ],
      "execution_count": 0,
      "outputs": []
    },
    {
      "cell_type": "code",
      "metadata": {
        "id": "NFhaacFSceyX",
        "colab_type": "code",
        "colab": {
          "base_uri": "https://localhost:8080/",
          "height": 34
        },
        "outputId": "6e4866bf-cf03-4ccb-a8ed-ec6e7ffc9464"
      },
      "source": [
        "x[0]"
      ],
      "execution_count": 17,
      "outputs": [
        {
          "output_type": "execute_result",
          "data": {
            "text/plain": [
              "10"
            ]
          },
          "metadata": {
            "tags": []
          },
          "execution_count": 17
        }
      ]
    },
    {
      "cell_type": "code",
      "metadata": {
        "id": "ot-nrKqdceya",
        "colab_type": "code",
        "colab": {
          "base_uri": "https://localhost:8080/",
          "height": 34
        },
        "outputId": "80ef6068-79f4-495c-c405-2c2879c3a218"
      },
      "source": [
        "# slice\n",
        "x[0:2]"
      ],
      "execution_count": 18,
      "outputs": [
        {
          "output_type": "execute_result",
          "data": {
            "text/plain": [
              "array([10, 20])"
            ]
          },
          "metadata": {
            "tags": []
          },
          "execution_count": 18
        }
      ]
    },
    {
      "cell_type": "code",
      "metadata": {
        "id": "rT-_f9Ilceyc",
        "colab_type": "code",
        "colab": {
          "base_uri": "https://localhost:8080/",
          "height": 34
        },
        "outputId": "d6e634bc-50b5-4f2a-b11d-15a6a5b77b27"
      },
      "source": [
        "x[0:1000]"
      ],
      "execution_count": 19,
      "outputs": [
        {
          "output_type": "execute_result",
          "data": {
            "text/plain": [
              "array([10, 20, 30, 40, 50])"
            ]
          },
          "metadata": {
            "tags": []
          },
          "execution_count": 19
        }
      ]
    },
    {
      "cell_type": "code",
      "metadata": {
        "id": "QJf5w_CZceye",
        "colab_type": "code",
        "colab": {
          "base_uri": "https://localhost:8080/",
          "height": 34
        },
        "outputId": "3681f26f-c491-4103-a797-f88a4da16a3e"
      },
      "source": [
        "# last value\n",
        "x[-1]"
      ],
      "execution_count": 20,
      "outputs": [
        {
          "output_type": "execute_result",
          "data": {
            "text/plain": [
              "50"
            ]
          },
          "metadata": {
            "tags": []
          },
          "execution_count": 20
        }
      ]
    },
    {
      "cell_type": "code",
      "metadata": {
        "id": "0eH8_p4nceyh",
        "colab_type": "code",
        "colab": {
          "base_uri": "https://localhost:8080/",
          "height": 34
        },
        "outputId": "8b1c8612-5d5b-450b-8c2c-93db11dc3152"
      },
      "source": [
        "# last value as array\n",
        "x[[-1]]"
      ],
      "execution_count": 21,
      "outputs": [
        {
          "output_type": "execute_result",
          "data": {
            "text/plain": [
              "array([50])"
            ]
          },
          "metadata": {
            "tags": []
          },
          "execution_count": 21
        }
      ]
    },
    {
      "cell_type": "code",
      "metadata": {
        "id": "qlhX0khXceyj",
        "colab_type": "code",
        "colab": {
          "base_uri": "https://localhost:8080/",
          "height": 34
        },
        "outputId": "ed5c5f4c-e625-4b9f-96c4-ac311ee9d0d0"
      },
      "source": [
        "# last 3 values\n",
        "x[-3:]"
      ],
      "execution_count": 22,
      "outputs": [
        {
          "output_type": "execute_result",
          "data": {
            "text/plain": [
              "array([30, 40, 50])"
            ]
          },
          "metadata": {
            "tags": []
          },
          "execution_count": 22
        }
      ]
    },
    {
      "cell_type": "code",
      "metadata": {
        "id": "XcDF1XJyceym",
        "colab_type": "code",
        "colab": {
          "base_uri": "https://localhost:8080/",
          "height": 34
        },
        "outputId": "36048f6e-488e-4346-d631-f92032d1e204"
      },
      "source": [
        "# pick indices\n",
        "x[[0,2,4]]"
      ],
      "execution_count": 23,
      "outputs": [
        {
          "output_type": "execute_result",
          "data": {
            "text/plain": [
              "array([10, 30, 50])"
            ]
          },
          "metadata": {
            "tags": []
          },
          "execution_count": 23
        }
      ]
    },
    {
      "cell_type": "markdown",
      "metadata": {
        "id": "Rb37Nzokceyp",
        "colab_type": "text"
      },
      "source": [
        "## Vector assignment\n",
        "\n",
        "Be careful when assigning arrays to new variables! "
      ]
    },
    {
      "cell_type": "code",
      "metadata": {
        "id": "xFySMtrKceyq",
        "colab_type": "code",
        "colab": {}
      },
      "source": [
        "#x2 = x # try this line instead\n",
        "x2 = x.copy()"
      ],
      "execution_count": 0,
      "outputs": []
    },
    {
      "cell_type": "code",
      "metadata": {
        "id": "Zj0lJgNsceys",
        "colab_type": "code",
        "colab": {}
      },
      "source": [
        "x2[0] = 10\n",
        "\n",
        "x2"
      ],
      "execution_count": 0,
      "outputs": []
    },
    {
      "cell_type": "code",
      "metadata": {
        "id": "VaubusA-ceyv",
        "colab_type": "code",
        "colab": {}
      },
      "source": [
        "x2[[1,2]] = 10\n",
        "\n",
        "x2"
      ],
      "execution_count": 0,
      "outputs": []
    },
    {
      "cell_type": "code",
      "metadata": {
        "id": "vIrrt_wjceyy",
        "colab_type": "code",
        "colab": {}
      },
      "source": [
        "x2[[3,4]] = [0, 1]\n",
        "\n",
        "x2"
      ],
      "execution_count": 0,
      "outputs": []
    },
    {
      "cell_type": "code",
      "metadata": {
        "id": "qJpk26w_cey1",
        "colab_type": "code",
        "colab": {}
      },
      "source": [
        "# check if the original vector changed\n",
        "x"
      ],
      "execution_count": 0,
      "outputs": []
    },
    {
      "cell_type": "markdown",
      "metadata": {
        "id": "vNesIaGbcey3",
        "colab_type": "text"
      },
      "source": [
        "## Vectorized operations"
      ]
    },
    {
      "cell_type": "code",
      "metadata": {
        "id": "Za8vuwyNcey3",
        "colab_type": "code",
        "colab": {}
      },
      "source": [
        "x.sum()"
      ],
      "execution_count": 0,
      "outputs": []
    },
    {
      "cell_type": "code",
      "metadata": {
        "id": "K69RrJZ7cey5",
        "colab_type": "code",
        "colab": {}
      },
      "source": [
        "x.mean()"
      ],
      "execution_count": 0,
      "outputs": []
    },
    {
      "cell_type": "code",
      "metadata": {
        "id": "lkxpVnfecey7",
        "colab_type": "code",
        "colab": {}
      },
      "source": [
        "x.max()"
      ],
      "execution_count": 0,
      "outputs": []
    },
    {
      "cell_type": "code",
      "metadata": {
        "id": "mS0Jh3cjcey9",
        "colab_type": "code",
        "colab": {}
      },
      "source": [
        "x.argmax()"
      ],
      "execution_count": 0,
      "outputs": []
    },
    {
      "cell_type": "code",
      "metadata": {
        "id": "-PaESH5Zcey_",
        "colab_type": "code",
        "colab": {}
      },
      "source": [
        "np.log(x)"
      ],
      "execution_count": 0,
      "outputs": []
    },
    {
      "cell_type": "code",
      "metadata": {
        "id": "ip7-nN86cezB",
        "colab_type": "code",
        "colab": {}
      },
      "source": [
        "np.exp(x)"
      ],
      "execution_count": 0,
      "outputs": []
    },
    {
      "cell_type": "code",
      "metadata": {
        "id": "0ZFQkc-AcezD",
        "colab_type": "code",
        "colab": {}
      },
      "source": [
        "x + x  # Try also with *, -, /, etc."
      ],
      "execution_count": 0,
      "outputs": []
    },
    {
      "cell_type": "code",
      "metadata": {
        "id": "nZ5GxyIhcezF",
        "colab_type": "code",
        "colab": {}
      },
      "source": [
        "x + 1"
      ],
      "execution_count": 0,
      "outputs": []
    },
    {
      "cell_type": "markdown",
      "metadata": {
        "id": "zs6vU2akcezH",
        "colab_type": "text"
      },
      "source": [
        "## Comparison with Python lists\n",
        "\n",
        "Vectorizing your mathematical expressions can lead to __huge__ performance gains. The following example is meant to give you a sense for this. It compares applying `np.log` to each element of a list with 10 million values with the same operation done on a vector."
      ]
    },
    {
      "cell_type": "code",
      "metadata": {
        "collapsed": true,
        "id": "4OdqZfmmcezH",
        "colab_type": "code",
        "colab": {}
      },
      "source": [
        "# log every value as list, one by one\n",
        "def listlog(vals):\n",
        "    return [np.log(y) for y in vals]"
      ],
      "execution_count": 0,
      "outputs": []
    },
    {
      "cell_type": "code",
      "metadata": {
        "id": "n5WfclY5cezJ",
        "colab_type": "code",
        "colab": {}
      },
      "source": [
        "# get random vector\n",
        "samp = np.random.random_sample(int(1e7))+1\n",
        "samp"
      ],
      "execution_count": 0,
      "outputs": []
    },
    {
      "cell_type": "code",
      "metadata": {
        "id": "_LPfYQmVcezL",
        "colab_type": "code",
        "colab": {}
      },
      "source": [
        "%time _ = np.log(samp)"
      ],
      "execution_count": 0,
      "outputs": []
    },
    {
      "cell_type": "code",
      "metadata": {
        "id": "zqyua7TtcezN",
        "colab_type": "code",
        "colab": {}
      },
      "source": [
        "%time _ = listlog(samp)"
      ],
      "execution_count": 0,
      "outputs": []
    },
    {
      "cell_type": "markdown",
      "metadata": {
        "id": "7N2Qb465cezP",
        "colab_type": "text"
      },
      "source": [
        "# Matrices\n",
        "\n",
        "The matrix is the core object of machine learning implementations. "
      ]
    },
    {
      "cell_type": "markdown",
      "metadata": {
        "id": "7hXDQndvcezQ",
        "colab_type": "text"
      },
      "source": [
        "## Matrix initialization"
      ]
    },
    {
      "cell_type": "code",
      "metadata": {
        "id": "PBdcUl19cezQ",
        "colab_type": "code",
        "colab": {}
      },
      "source": [
        "np.array([[1,2,3], [4,5,6]])"
      ],
      "execution_count": 0,
      "outputs": []
    },
    {
      "cell_type": "code",
      "metadata": {
        "id": "12HsP0cIcezT",
        "colab_type": "code",
        "colab": {}
      },
      "source": [
        "np.array([[1,2,3], [4,5,6]], dtype='float')"
      ],
      "execution_count": 0,
      "outputs": []
    },
    {
      "cell_type": "code",
      "metadata": {
        "id": "m5UrV0_1cezV",
        "colab_type": "code",
        "colab": {}
      },
      "source": [
        "np.zeros((3,5))"
      ],
      "execution_count": 0,
      "outputs": []
    },
    {
      "cell_type": "code",
      "metadata": {
        "id": "hT-rH_SecezW",
        "colab_type": "code",
        "colab": {}
      },
      "source": [
        "np.ones((3,5))"
      ],
      "execution_count": 0,
      "outputs": []
    },
    {
      "cell_type": "code",
      "metadata": {
        "id": "Q2_gUgi_cezZ",
        "colab_type": "code",
        "colab": {}
      },
      "source": [
        "np.identity(3)"
      ],
      "execution_count": 0,
      "outputs": []
    },
    {
      "cell_type": "code",
      "metadata": {
        "id": "G7hIPa0-ceze",
        "colab_type": "code",
        "colab": {}
      },
      "source": [
        "np.diag([1,2,3])"
      ],
      "execution_count": 0,
      "outputs": []
    },
    {
      "cell_type": "markdown",
      "metadata": {
        "id": "lGTcCSKPcezf",
        "colab_type": "text"
      },
      "source": [
        "## Matrix indexing"
      ]
    },
    {
      "cell_type": "code",
      "metadata": {
        "id": "Zh6fdye0cezg",
        "colab_type": "code",
        "colab": {}
      },
      "source": [
        "X = np.array([[1,2,3], [4,5,6]])\n",
        "X"
      ],
      "execution_count": 0,
      "outputs": []
    },
    {
      "cell_type": "code",
      "metadata": {
        "id": "2tOH4Ei9cezl",
        "colab_type": "code",
        "colab": {}
      },
      "source": [
        "X[0]"
      ],
      "execution_count": 0,
      "outputs": []
    },
    {
      "cell_type": "code",
      "metadata": {
        "id": "V34HdSaCcezn",
        "colab_type": "code",
        "colab": {}
      },
      "source": [
        "X[0,0]"
      ],
      "execution_count": 0,
      "outputs": []
    },
    {
      "cell_type": "code",
      "metadata": {
        "id": "fGoDA_N6cezp",
        "colab_type": "code",
        "colab": {}
      },
      "source": [
        "# get row\n",
        "X[0, : ]"
      ],
      "execution_count": 0,
      "outputs": []
    },
    {
      "cell_type": "code",
      "metadata": {
        "id": "MIxtFslscezr",
        "colab_type": "code",
        "colab": {}
      },
      "source": [
        "# get column\n",
        "X[ : , 0]"
      ],
      "execution_count": 0,
      "outputs": []
    },
    {
      "cell_type": "code",
      "metadata": {
        "id": "5VS7alaTcezs",
        "colab_type": "code",
        "colab": {}
      },
      "source": [
        "# get multiple columns\n",
        "X[ : , [0,2]]"
      ],
      "execution_count": 0,
      "outputs": []
    },
    {
      "cell_type": "markdown",
      "metadata": {
        "id": "oCihzE5Bcezu",
        "colab_type": "text"
      },
      "source": [
        "## Matrix assignment"
      ]
    },
    {
      "cell_type": "code",
      "metadata": {
        "id": "45JWeyRjcezv",
        "colab_type": "code",
        "colab": {}
      },
      "source": [
        "# X2 = X # try this line instead\n",
        "X2 = X.copy()\n",
        "\n",
        "X2"
      ],
      "execution_count": 0,
      "outputs": []
    },
    {
      "cell_type": "code",
      "metadata": {
        "id": "i42QDZJBcezx",
        "colab_type": "code",
        "colab": {}
      },
      "source": [
        "X2[0,0] = 20\n",
        "\n",
        "X2"
      ],
      "execution_count": 0,
      "outputs": []
    },
    {
      "cell_type": "code",
      "metadata": {
        "id": "_8-9cP_4cezy",
        "colab_type": "code",
        "colab": {}
      },
      "source": [
        "X2[0] = 3\n",
        "\n",
        "X2"
      ],
      "execution_count": 0,
      "outputs": []
    },
    {
      "cell_type": "code",
      "metadata": {
        "id": "DKKLd4Ymcez0",
        "colab_type": "code",
        "colab": {}
      },
      "source": [
        "X2[: , -1] = [5, 6]\n",
        "\n",
        "X2"
      ],
      "execution_count": 0,
      "outputs": []
    },
    {
      "cell_type": "code",
      "metadata": {
        "id": "oRvGIVTJcez1",
        "colab_type": "code",
        "colab": {}
      },
      "source": [
        "# check if original matrix changed\n",
        "X"
      ],
      "execution_count": 0,
      "outputs": []
    },
    {
      "cell_type": "markdown",
      "metadata": {
        "id": "YipO754Qcez4",
        "colab_type": "text"
      },
      "source": [
        "## Matrix reshaping"
      ]
    },
    {
      "cell_type": "code",
      "metadata": {
        "id": "iveodOZucez5",
        "colab_type": "code",
        "colab": {}
      },
      "source": [
        "z = np.arange(1, 7)\n",
        "\n",
        "z"
      ],
      "execution_count": 0,
      "outputs": []
    },
    {
      "cell_type": "code",
      "metadata": {
        "id": "8rH5cURJcez6",
        "colab_type": "code",
        "colab": {}
      },
      "source": [
        "z.shape"
      ],
      "execution_count": 0,
      "outputs": []
    },
    {
      "cell_type": "code",
      "metadata": {
        "id": "FyNvV3VOcez8",
        "colab_type": "code",
        "colab": {}
      },
      "source": [
        "Z = z.reshape(2,3)\n",
        "\n",
        "Z"
      ],
      "execution_count": 0,
      "outputs": []
    },
    {
      "cell_type": "code",
      "metadata": {
        "id": "oEKLJc53cez9",
        "colab_type": "code",
        "colab": {}
      },
      "source": [
        "Z.shape"
      ],
      "execution_count": 0,
      "outputs": []
    },
    {
      "cell_type": "code",
      "metadata": {
        "id": "Wicndzd-cez_",
        "colab_type": "code",
        "colab": {}
      },
      "source": [
        "Z.reshape(6)"
      ],
      "execution_count": 0,
      "outputs": []
    },
    {
      "cell_type": "code",
      "metadata": {
        "id": "MTzvYxqfce0B",
        "colab_type": "code",
        "colab": {}
      },
      "source": [
        "# same as above\n",
        "Z.flatten()"
      ],
      "execution_count": 0,
      "outputs": []
    },
    {
      "cell_type": "code",
      "metadata": {
        "id": "jf_1Ok8lce0C",
        "colab_type": "code",
        "colab": {}
      },
      "source": [
        "# transpose\n",
        "Z.T"
      ],
      "execution_count": 0,
      "outputs": []
    },
    {
      "cell_type": "markdown",
      "metadata": {
        "id": "NTu6Kg3Rce0F",
        "colab_type": "text"
      },
      "source": [
        "## Numeric operations"
      ]
    },
    {
      "cell_type": "code",
      "metadata": {
        "id": "e_1wZNtvce0F",
        "colab_type": "code",
        "colab": {}
      },
      "source": [
        "A = np.array(range(1,7), dtype='float').reshape(2,3)\n",
        "\n",
        "A"
      ],
      "execution_count": 0,
      "outputs": []
    },
    {
      "cell_type": "code",
      "metadata": {
        "id": "PdUlxkK8ce0H",
        "colab_type": "code",
        "colab": {}
      },
      "source": [
        "B = np.array([1, 2, 3])"
      ],
      "execution_count": 0,
      "outputs": []
    },
    {
      "cell_type": "code",
      "metadata": {
        "id": "PlTNK5J6ce0J",
        "colab_type": "code",
        "colab": {}
      },
      "source": [
        "# not the same as A.dot(B)\n",
        "A * B"
      ],
      "execution_count": 0,
      "outputs": []
    },
    {
      "cell_type": "code",
      "metadata": {
        "id": "-jzL6fiXce0L",
        "colab_type": "code",
        "colab": {}
      },
      "source": [
        "A + B"
      ],
      "execution_count": 0,
      "outputs": []
    },
    {
      "cell_type": "code",
      "metadata": {
        "id": "-4WzsLu9ce0P",
        "colab_type": "code",
        "colab": {}
      },
      "source": [
        "A / B"
      ],
      "execution_count": 0,
      "outputs": []
    },
    {
      "cell_type": "code",
      "metadata": {
        "id": "zdpn2B1tce0Q",
        "colab_type": "code",
        "colab": {}
      },
      "source": [
        "# matrix multiplication\n",
        "A.dot(B)"
      ],
      "execution_count": 0,
      "outputs": []
    },
    {
      "cell_type": "code",
      "metadata": {
        "id": "G62RIGMDce0S",
        "colab_type": "code",
        "colab": {}
      },
      "source": [
        "B.dot(A.T)"
      ],
      "execution_count": 0,
      "outputs": []
    },
    {
      "cell_type": "code",
      "metadata": {
        "id": "iWddUlRxce0T",
        "colab_type": "code",
        "colab": {}
      },
      "source": [
        "A.dot(A.T)"
      ],
      "execution_count": 0,
      "outputs": []
    },
    {
      "cell_type": "code",
      "metadata": {
        "id": "6eu1e5trce0V",
        "colab_type": "code",
        "colab": {}
      },
      "source": [
        "# outer product\n",
        "# multiplying each element of first vector by each element of the second\n",
        "np.outer(B, B)"
      ],
      "execution_count": 0,
      "outputs": []
    },
    {
      "cell_type": "markdown",
      "metadata": {
        "id": "eZK8Bx_Uce0W",
        "colab_type": "text"
      },
      "source": [
        "The following is a practical example of numerical operations on NumPy matrices. \n",
        "\n",
        "In our class, we have a shallow neural network implemented in `np_shallow_neural_network.py`. See how the forward and backward passes use no for loops, and instead takes advantage of NumPy's ability to vectorize manipulations of data. \n",
        "\n",
        "```python\n",
        "def forward_propagation(self, x):\n",
        "    h = self.hidden_activation(x.dot(self.W_xh) + self.b_xh)\n",
        "    y = softmax(h.dot(self.W_hy) + self.b_hy)\n",
        "    return h, y\n",
        "\n",
        "def backward_propagation(self, h, predictions, x, labels):\n",
        "    y_err = predictions.copy()\n",
        "    y_err[np.argmax(labels)] -= 1 # backprop for cross-entropy error: -log(prediction-for-correct-label)\n",
        "    d_b_hy = y_err\n",
        "    h_err = y_err.dot(self.W_hy.T) * self.d_hidden_activation(h)\n",
        "    d_W_hy = np.outer(h, y_err)\n",
        "    d_W_xh = np.outer(x, h_err)\n",
        "    d_b_xh = h_err\n",
        "    return d_W_hy, d_b_hy, d_W_xh, d_b_xh\n",
        "```\n",
        "\n",
        "The forward pass essentially computes the following: \n",
        "    $$h = f(xW_{xh} + b_{xh})$$\n",
        "    $$y = \\text{softmax}(hW_{hy} + b_{hy}),$$\n",
        "where $f$ is `self.hidden_activation`. \n",
        "\n",
        "The backward pass propagates error by computing local gradients and chaining them. Feel free to learn more about backprop [here](http://cs231n.github.io/optimization-2/), though it is not necessary for our class. Also look at this [neural networks case study](http://cs231n.github.io/neural-networks-case-study/) to see another example of how NumPy can be used to implement forward and backward passes of a simple neural network. "
      ]
    },
    {
      "cell_type": "markdown",
      "metadata": {
        "collapsed": true,
        "id": "dsvkL5JJce0X",
        "colab_type": "text"
      },
      "source": [
        "## Going beyond NumPy alone\n",
        "\n",
        "These are examples of how NumPy can be used with other Python packages. "
      ]
    },
    {
      "cell_type": "markdown",
      "metadata": {
        "id": "i7Yfl7f4ce0X",
        "colab_type": "text"
      },
      "source": [
        "### Pandas\n",
        "We can convert numpy matrices to Pandas dataframes. In the following example, this is useful because it allows us to label each row. You may have noticed this being done in our first unit on distributed representations. "
      ]
    },
    {
      "cell_type": "code",
      "metadata": {
        "collapsed": true,
        "id": "Is4vi3LOce0Y",
        "colab_type": "code",
        "colab": {}
      },
      "source": [
        "import pandas as pd"
      ],
      "execution_count": 0,
      "outputs": []
    },
    {
      "cell_type": "code",
      "metadata": {
        "id": "x8inswuSce0b",
        "colab_type": "code",
        "colab": {}
      },
      "source": [
        "count_df = pd.DataFrame(\n",
        "    np.array([\n",
        "        [1,0,1,0,0,0],\n",
        "        [0,1,0,1,0,0],\n",
        "        [1,1,1,1,0,0],\n",
        "        [0,0,0,0,1,1],\n",
        "        [0,0,0,0,0,1]], dtype='float64'),\n",
        "    index=['gnarly', 'wicked', 'awesome', 'lame', 'terrible'])\n",
        "count_df"
      ],
      "execution_count": 0,
      "outputs": []
    },
    {
      "cell_type": "markdown",
      "metadata": {
        "id": "_XAkpulYce0d",
        "colab_type": "text"
      },
      "source": [
        "### Scikit-learn\n",
        "\n",
        "In `sklearn`, NumPy matrices are the most common input and output and thus a key to how the library's numerous methods can work together. Many of the cs224u's model built by Chris operate just like `sklearn` ones, such as the classifiers we used for our sentiment analysis unit. "
      ]
    },
    {
      "cell_type": "code",
      "metadata": {
        "collapsed": true,
        "id": "ikbRUHa3ce0e",
        "colab_type": "code",
        "colab": {}
      },
      "source": [
        "from sklearn.linear_model import LogisticRegression\n",
        "from sklearn.model_selection import train_test_split\n",
        "from sklearn.metrics import classification_report\n",
        "from sklearn import datasets"
      ],
      "execution_count": 0,
      "outputs": []
    },
    {
      "cell_type": "code",
      "metadata": {
        "id": "IFFKTVomce0f",
        "colab_type": "code",
        "colab": {}
      },
      "source": [
        "iris = datasets.load_iris()\n",
        "X = iris.data\n",
        "y = iris.target\n",
        "print(type(X))\n",
        "print(\"Dimensions of X:\", X.shape)\n",
        "print(type(y))\n",
        "print(\"Dimensions of y:\", y.shape)"
      ],
      "execution_count": 0,
      "outputs": []
    },
    {
      "cell_type": "code",
      "metadata": {
        "id": "zWcs_QNKce0h",
        "colab_type": "code",
        "colab": {}
      },
      "source": [
        "# split data into train/test\n",
        "X_iris_train, X_iris_test, y_iris_train, y_iris_test = train_test_split(\n",
        "    X, y, train_size=0.7, test_size=0.3)\n",
        "print(\"X_iris_train:\", type(X_iris_train))\n",
        "print(\"y_iris_train:\", type(y_iris_train))\n",
        "print()\n",
        "\n",
        "# start up model\n",
        "maxent = LogisticRegression(fit_intercept=True, \n",
        "        solver='liblinear', \n",
        "        multi_class='auto')\n",
        "\n",
        "# train on train set\n",
        "maxent.fit(X_iris_train, y_iris_train)\n",
        "\n",
        "# predict on test set\n",
        "iris_predictions = maxent.predict(X_iris_test)\n",
        "fnames_iris = iris['feature_names']\n",
        "tnames_iris = iris['target_names']\n",
        "\n",
        "# how well did our model do?\n",
        "print(classification_report(y_iris_test, iris_predictions, target_names=tnames_iris))"
      ],
      "execution_count": 0,
      "outputs": []
    },
    {
      "cell_type": "markdown",
      "metadata": {
        "id": "o5L2lhPece0i",
        "colab_type": "text"
      },
      "source": [
        "### SciPy\n",
        "\n",
        "SciPy contains what may seem like an endless treasure trove of operations for linear algebra, optimization, and more.  It is built so that everything can work with NumPy arrays. "
      ]
    },
    {
      "cell_type": "code",
      "metadata": {
        "collapsed": true,
        "id": "WOiYe1rEce0j",
        "colab_type": "code",
        "colab": {}
      },
      "source": [
        "from scipy.spatial.distance import cosine\n",
        "from scipy.stats import pearsonr\n",
        "from scipy import linalg"
      ],
      "execution_count": 0,
      "outputs": []
    },
    {
      "cell_type": "code",
      "metadata": {
        "id": "XCMewWa0ce0k",
        "colab_type": "code",
        "colab": {}
      },
      "source": [
        "# cosine distance\n",
        "a = np.random.random(10)\n",
        "b = np.random.random(10)\n",
        "cosine(a, b)"
      ],
      "execution_count": 0,
      "outputs": []
    },
    {
      "cell_type": "code",
      "metadata": {
        "id": "2CkLhVZ9ce0o",
        "colab_type": "code",
        "colab": {}
      },
      "source": [
        "# pearson correlation (coeff, p-value)\n",
        "pearsonr(a, b)"
      ],
      "execution_count": 0,
      "outputs": []
    },
    {
      "cell_type": "code",
      "metadata": {
        "id": "zTUdqwddce0s",
        "colab_type": "code",
        "colab": {}
      },
      "source": [
        "# inverse of matrix\n",
        "A = np.array([[1,3,5],[2,5,1],[2,3,8]])\n",
        "linalg.inv(A)"
      ],
      "execution_count": 0,
      "outputs": []
    },
    {
      "cell_type": "markdown",
      "metadata": {
        "id": "vcNJRrSUce0t",
        "colab_type": "text"
      },
      "source": [
        "To learn more about how NumPy can be combined with SciPy and Scikit-learn for machine learning, check out this [notebook tutorial](https://github.com/cgpotts/csli-summer/blob/master/advanced_python/intro_to_python_ml.ipynb) by Chris Potts and Will Monroe. (You may notice that over half of this current notebook is modified from theirs.) Their tutorial also has some interesting exercises in it! "
      ]
    },
    {
      "cell_type": "markdown",
      "metadata": {
        "id": "voXxtiAuce0u",
        "colab_type": "text"
      },
      "source": [
        "### Matplotlib"
      ]
    },
    {
      "cell_type": "code",
      "metadata": {
        "collapsed": true,
        "id": "iaNkvPxBce0w",
        "colab_type": "code",
        "colab": {}
      },
      "source": [
        "import matplotlib.pyplot as plt"
      ],
      "execution_count": 0,
      "outputs": []
    },
    {
      "cell_type": "code",
      "metadata": {
        "id": "gkcdxVCgce0x",
        "colab_type": "code",
        "colab": {}
      },
      "source": [
        "a = np.sort(np.random.random(30))\n",
        "b = a**2\n",
        "c = np.log(a)\n",
        "plt.plot(a, b, label='y = x^2')\n",
        "plt.plot(a, c, label='y = log(x)')\n",
        "plt.legend()\n",
        "plt.title(\"Some functions\")\n",
        "plt.show()"
      ],
      "execution_count": 0,
      "outputs": []
    },
    {
      "cell_type": "code",
      "metadata": {
        "collapsed": true,
        "id": "IdFaNsWxce00",
        "colab_type": "code",
        "colab": {}
      },
      "source": [
        ""
      ],
      "execution_count": 0,
      "outputs": []
    }
  ]
}