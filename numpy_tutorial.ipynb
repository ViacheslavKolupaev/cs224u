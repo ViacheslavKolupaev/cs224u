{
  "nbformat": 4,
  "nbformat_minor": 0,
  "metadata": {
    "anaconda-cloud": {},
    "kernelspec": {
      "name": "python3",
      "display_name": "Python 3"
    },
    "colab": {
      "name": "numpy_tutorial.ipynb",
      "version": "0.3.2",
      "provenance": []
    }
  },
  "cells": [
    {
      "cell_type": "markdown",
      "metadata": {
        "id": "-mLd7YLEcexu",
        "colab_type": "text"
      },
      "source": [
        "# Introduction to NumPy\n",
        "\n",
        "This notebook is the first half of a special session on NumPy and PyTorch for CS 224U. \n",
        "\n",
        "Why should we care about NumPy? \n",
        "- It allows you to perform tons of operations on vectors and matrices. \n",
        "- It makes things run faster than naive for-loop implementations (a.k.a. vectorization). \n",
        "- We use it in our class (see files prefixed with `np_` in your cs224u directory). \n",
        "- It's used a ton in machine learning / AI. \n",
        "- Its arrays are often inputs into other important Python packages' functions. \n",
        "\n",
        "In Jupyter notebooks, NumPy documentation is two clicks away: Help -> NumPy reference. "
      ]
    },
    {
      "cell_type": "code",
      "metadata": {
        "id": "Mp15vbfVcexx",
        "colab_type": "code",
        "colab": {}
      },
      "source": [
        "__author__ = 'Will Monroe, Chris Potts, and Lucy Li'"
      ],
      "execution_count": 0,
      "outputs": []
    },
    {
      "cell_type": "code",
      "metadata": {
        "id": "ABGsaGW2cex0",
        "colab_type": "code",
        "colab": {}
      },
      "source": [
        "import numpy as np"
      ],
      "execution_count": 0,
      "outputs": []
    },
    {
      "cell_type": "markdown",
      "metadata": {
        "id": "_KnLhSpucex2",
        "colab_type": "text"
      },
      "source": [
        "# Vectors\n",
        "## Vector Initialization"
      ]
    },
    {
      "cell_type": "code",
      "metadata": {
        "id": "jQC6-YGocex3",
        "colab_type": "code",
        "colab": {
          "base_uri": "https://localhost:8080/",
          "height": 34
        },
        "outputId": "bbc7d531-eb9f-4527-92bc-b05cfdd32db5"
      },
      "source": [
        "np.zeros(5)"
      ],
      "execution_count": 4,
      "outputs": [
        {
          "output_type": "execute_result",
          "data": {
            "text/plain": [
              "array([0., 0., 0., 0., 0.])"
            ]
          },
          "metadata": {
            "tags": []
          },
          "execution_count": 4
        }
      ]
    },
    {
      "cell_type": "code",
      "metadata": {
        "id": "gyjdcjLLcex6",
        "colab_type": "code",
        "colab": {
          "base_uri": "https://localhost:8080/",
          "height": 34
        },
        "outputId": "d4719fde-d344-4283-b928-ec426a7c3f3f"
      },
      "source": [
        "np.ones(5)"
      ],
      "execution_count": 5,
      "outputs": [
        {
          "output_type": "execute_result",
          "data": {
            "text/plain": [
              "array([1., 1., 1., 1., 1.])"
            ]
          },
          "metadata": {
            "tags": []
          },
          "execution_count": 5
        }
      ]
    },
    {
      "cell_type": "code",
      "metadata": {
        "id": "o5c1YTvMcex8",
        "colab_type": "code",
        "colab": {
          "base_uri": "https://localhost:8080/",
          "height": 34
        },
        "outputId": "e3ef56e0-5503-4698-dcea-5ca80feb6f8e"
      },
      "source": [
        "# convert list to numpy array\n",
        "np.array([1,2,3,4,5])"
      ],
      "execution_count": 6,
      "outputs": [
        {
          "output_type": "execute_result",
          "data": {
            "text/plain": [
              "array([1, 2, 3, 4, 5])"
            ]
          },
          "metadata": {
            "tags": []
          },
          "execution_count": 6
        }
      ]
    },
    {
      "cell_type": "code",
      "metadata": {
        "id": "dB_Ad0Yccex-",
        "colab_type": "code",
        "colab": {
          "base_uri": "https://localhost:8080/",
          "height": 34
        },
        "outputId": "3375f182-1059-4515-94cd-72e04cb129df"
      },
      "source": [
        "# convert numpy array to list\n",
        "np.ones(5).tolist()"
      ],
      "execution_count": 7,
      "outputs": [
        {
          "output_type": "execute_result",
          "data": {
            "text/plain": [
              "[1.0, 1.0, 1.0, 1.0, 1.0]"
            ]
          },
          "metadata": {
            "tags": []
          },
          "execution_count": 7
        }
      ]
    },
    {
      "cell_type": "code",
      "metadata": {
        "id": "k5w2ha8ZceyA",
        "colab_type": "code",
        "colab": {
          "base_uri": "https://localhost:8080/",
          "height": 34
        },
        "outputId": "5bd20b62-d0dc-4f1b-cb26-19f8632c03f9"
      },
      "source": [
        "# one float => all floats\n",
        "np.array([1.0,2,3,4,5])"
      ],
      "execution_count": 8,
      "outputs": [
        {
          "output_type": "execute_result",
          "data": {
            "text/plain": [
              "array([1., 2., 3., 4., 5.])"
            ]
          },
          "metadata": {
            "tags": []
          },
          "execution_count": 8
        }
      ]
    },
    {
      "cell_type": "code",
      "metadata": {
        "id": "xqTqFOsWceyD",
        "colab_type": "code",
        "colab": {
          "base_uri": "https://localhost:8080/",
          "height": 34
        },
        "outputId": "c5c3eb33-a45d-474e-d017-0fbfa0453356"
      },
      "source": [
        "# same as above\n",
        "np.array([1,2,3,4,5], dtype='float')"
      ],
      "execution_count": 9,
      "outputs": [
        {
          "output_type": "execute_result",
          "data": {
            "text/plain": [
              "array([1., 2., 3., 4., 5.])"
            ]
          },
          "metadata": {
            "tags": []
          },
          "execution_count": 9
        }
      ]
    },
    {
      "cell_type": "code",
      "metadata": {
        "id": "uAk2pRQlceyF",
        "colab_type": "code",
        "colab": {
          "base_uri": "https://localhost:8080/",
          "height": 34
        },
        "outputId": "8a2b37f7-7ba9-459f-c2f6-875cb7ac2b60"
      },
      "source": [
        "# spaced values in interval\n",
        "np.array([x for x in range(20) if x % 2 == 0])"
      ],
      "execution_count": 10,
      "outputs": [
        {
          "output_type": "execute_result",
          "data": {
            "text/plain": [
              "array([ 0,  2,  4,  6,  8, 10, 12, 14, 16, 18])"
            ]
          },
          "metadata": {
            "tags": []
          },
          "execution_count": 10
        }
      ]
    },
    {
      "cell_type": "code",
      "metadata": {
        "id": "pv3mFg2MceyJ",
        "colab_type": "code",
        "colab": {
          "base_uri": "https://localhost:8080/",
          "height": 34
        },
        "outputId": "ff18ce28-f849-414d-fd65-8bd08feee592"
      },
      "source": [
        "# same as above\n",
        "np.arange(0,20,2)"
      ],
      "execution_count": 11,
      "outputs": [
        {
          "output_type": "execute_result",
          "data": {
            "text/plain": [
              "array([ 0,  2,  4,  6,  8, 10, 12, 14, 16, 18])"
            ]
          },
          "metadata": {
            "tags": []
          },
          "execution_count": 11
        }
      ]
    },
    {
      "cell_type": "code",
      "metadata": {
        "id": "th4v1HLfceyQ",
        "colab_type": "code",
        "colab": {
          "base_uri": "https://localhost:8080/",
          "height": 51
        },
        "outputId": "d8b49fd9-03e4-4afa-9f04-10dec05275b6"
      },
      "source": [
        "# random floats in [0, 1)\n",
        "np.random.random(10)"
      ],
      "execution_count": 12,
      "outputs": [
        {
          "output_type": "execute_result",
          "data": {
            "text/plain": [
              "array([0.37251764, 0.90866249, 0.13589718, 0.81441238, 0.53028324,\n",
              "       0.34409881, 0.70191522, 0.62752199, 0.72620414, 0.88047313])"
            ]
          },
          "metadata": {
            "tags": []
          },
          "execution_count": 12
        }
      ]
    },
    {
      "cell_type": "code",
      "metadata": {
        "id": "jzAywrIQceyS",
        "colab_type": "code",
        "colab": {
          "base_uri": "https://localhost:8080/",
          "height": 34
        },
        "outputId": "036d6384-d2f7-44e4-a016-e9f3504eae0c"
      },
      "source": [
        "# random integers\n",
        "np.random.randint(5, 15, size=10)"
      ],
      "execution_count": 15,
      "outputs": [
        {
          "output_type": "execute_result",
          "data": {
            "text/plain": [
              "array([11,  9, 14,  8,  6, 13,  9,  9, 10,  5])"
            ]
          },
          "metadata": {
            "tags": []
          },
          "execution_count": 15
        }
      ]
    },
    {
      "cell_type": "markdown",
      "metadata": {
        "id": "TBhBW2e-ceyU",
        "colab_type": "text"
      },
      "source": [
        "## Vector indexing"
      ]
    },
    {
      "cell_type": "code",
      "metadata": {
        "id": "dbFyC_Z-ceyU",
        "colab_type": "code",
        "colab": {}
      },
      "source": [
        "x = np.array([10,20,30,40,50])"
      ],
      "execution_count": 0,
      "outputs": []
    },
    {
      "cell_type": "code",
      "metadata": {
        "id": "NFhaacFSceyX",
        "colab_type": "code",
        "colab": {
          "base_uri": "https://localhost:8080/",
          "height": 34
        },
        "outputId": "6e4866bf-cf03-4ccb-a8ed-ec6e7ffc9464"
      },
      "source": [
        "x[0]"
      ],
      "execution_count": 17,
      "outputs": [
        {
          "output_type": "execute_result",
          "data": {
            "text/plain": [
              "10"
            ]
          },
          "metadata": {
            "tags": []
          },
          "execution_count": 17
        }
      ]
    },
    {
      "cell_type": "code",
      "metadata": {
        "id": "ot-nrKqdceya",
        "colab_type": "code",
        "colab": {
          "base_uri": "https://localhost:8080/",
          "height": 34
        },
        "outputId": "80ef6068-79f4-495c-c405-2c2879c3a218"
      },
      "source": [
        "# slice\n",
        "x[0:2]"
      ],
      "execution_count": 18,
      "outputs": [
        {
          "output_type": "execute_result",
          "data": {
            "text/plain": [
              "array([10, 20])"
            ]
          },
          "metadata": {
            "tags": []
          },
          "execution_count": 18
        }
      ]
    },
    {
      "cell_type": "code",
      "metadata": {
        "id": "rT-_f9Ilceyc",
        "colab_type": "code",
        "colab": {
          "base_uri": "https://localhost:8080/",
          "height": 34
        },
        "outputId": "d6e634bc-50b5-4f2a-b11d-15a6a5b77b27"
      },
      "source": [
        "x[0:1000]"
      ],
      "execution_count": 19,
      "outputs": [
        {
          "output_type": "execute_result",
          "data": {
            "text/plain": [
              "array([10, 20, 30, 40, 50])"
            ]
          },
          "metadata": {
            "tags": []
          },
          "execution_count": 19
        }
      ]
    },
    {
      "cell_type": "code",
      "metadata": {
        "id": "QJf5w_CZceye",
        "colab_type": "code",
        "colab": {
          "base_uri": "https://localhost:8080/",
          "height": 34
        },
        "outputId": "3681f26f-c491-4103-a797-f88a4da16a3e"
      },
      "source": [
        "# last value\n",
        "x[-1]"
      ],
      "execution_count": 20,
      "outputs": [
        {
          "output_type": "execute_result",
          "data": {
            "text/plain": [
              "50"
            ]
          },
          "metadata": {
            "tags": []
          },
          "execution_count": 20
        }
      ]
    },
    {
      "cell_type": "code",
      "metadata": {
        "id": "0eH8_p4nceyh",
        "colab_type": "code",
        "colab": {
          "base_uri": "https://localhost:8080/",
          "height": 34
        },
        "outputId": "8b1c8612-5d5b-450b-8c2c-93db11dc3152"
      },
      "source": [
        "# last value as array\n",
        "x[[-1]]"
      ],
      "execution_count": 21,
      "outputs": [
        {
          "output_type": "execute_result",
          "data": {
            "text/plain": [
              "array([50])"
            ]
          },
          "metadata": {
            "tags": []
          },
          "execution_count": 21
        }
      ]
    },
    {
      "cell_type": "code",
      "metadata": {
        "id": "qlhX0khXceyj",
        "colab_type": "code",
        "colab": {
          "base_uri": "https://localhost:8080/",
          "height": 34
        },
        "outputId": "ed5c5f4c-e625-4b9f-96c4-ac311ee9d0d0"
      },
      "source": [
        "# last 3 values\n",
        "x[-3:]"
      ],
      "execution_count": 22,
      "outputs": [
        {
          "output_type": "execute_result",
          "data": {
            "text/plain": [
              "array([30, 40, 50])"
            ]
          },
          "metadata": {
            "tags": []
          },
          "execution_count": 22
        }
      ]
    },
    {
      "cell_type": "code",
      "metadata": {
        "id": "XcDF1XJyceym",
        "colab_type": "code",
        "colab": {
          "base_uri": "https://localhost:8080/",
          "height": 34
        },
        "outputId": "36048f6e-488e-4346-d631-f92032d1e204"
      },
      "source": [
        "# pick indices\n",
        "x[[0,2,4]]"
      ],
      "execution_count": 23,
      "outputs": [
        {
          "output_type": "execute_result",
          "data": {
            "text/plain": [
              "array([10, 30, 50])"
            ]
          },
          "metadata": {
            "tags": []
          },
          "execution_count": 23
        }
      ]
    },
    {
      "cell_type": "markdown",
      "metadata": {
        "id": "Rb37Nzokceyp",
        "colab_type": "text"
      },
      "source": [
        "## Vector assignment\n",
        "\n",
        "Be careful when assigning arrays to new variables! "
      ]
    },
    {
      "cell_type": "code",
      "metadata": {
        "id": "xFySMtrKceyq",
        "colab_type": "code",
        "colab": {}
      },
      "source": [
        "#x2 = x # try this line instead\n",
        "x2 = x.copy()"
      ],
      "execution_count": 0,
      "outputs": []
    },
    {
      "cell_type": "code",
      "metadata": {
        "id": "Zj0lJgNsceys",
        "colab_type": "code",
        "colab": {
          "base_uri": "https://localhost:8080/",
          "height": 34
        },
        "outputId": "1ad107c8-fd11-42d0-d73a-28ee3cf2a090"
      },
      "source": [
        "x2[0] = 10\n",
        "\n",
        "x2"
      ],
      "execution_count": 45,
      "outputs": [
        {
          "output_type": "execute_result",
          "data": {
            "text/plain": [
              "array([10, 20, 30, 40, 50])"
            ]
          },
          "metadata": {
            "tags": []
          },
          "execution_count": 45
        }
      ]
    },
    {
      "cell_type": "code",
      "metadata": {
        "id": "VaubusA-ceyv",
        "colab_type": "code",
        "colab": {
          "base_uri": "https://localhost:8080/",
          "height": 34
        },
        "outputId": "56f0f74b-d905-41e3-e90b-b64398c7cdb8"
      },
      "source": [
        "x2[[1,2]] = 10\n",
        "\n",
        "x2"
      ],
      "execution_count": 46,
      "outputs": [
        {
          "output_type": "execute_result",
          "data": {
            "text/plain": [
              "array([10, 10, 10, 40, 50])"
            ]
          },
          "metadata": {
            "tags": []
          },
          "execution_count": 46
        }
      ]
    },
    {
      "cell_type": "code",
      "metadata": {
        "id": "vIrrt_wjceyy",
        "colab_type": "code",
        "colab": {
          "base_uri": "https://localhost:8080/",
          "height": 34
        },
        "outputId": "2c2430eb-9d4d-4459-ead5-0bda49981d7e"
      },
      "source": [
        "x2[[3,4]] = [0, 1]\n",
        "\n",
        "x2"
      ],
      "execution_count": 47,
      "outputs": [
        {
          "output_type": "execute_result",
          "data": {
            "text/plain": [
              "array([10, 10, 10,  0,  1])"
            ]
          },
          "metadata": {
            "tags": []
          },
          "execution_count": 47
        }
      ]
    },
    {
      "cell_type": "code",
      "metadata": {
        "id": "qJpk26w_cey1",
        "colab_type": "code",
        "colab": {
          "base_uri": "https://localhost:8080/",
          "height": 34
        },
        "outputId": "69765172-15a8-4431-b31e-dede44d5829a"
      },
      "source": [
        "# check if the original vector changed\n",
        "x"
      ],
      "execution_count": 48,
      "outputs": [
        {
          "output_type": "execute_result",
          "data": {
            "text/plain": [
              "array([10, 20, 30, 40, 50])"
            ]
          },
          "metadata": {
            "tags": []
          },
          "execution_count": 48
        }
      ]
    },
    {
      "cell_type": "markdown",
      "metadata": {
        "id": "vNesIaGbcey3",
        "colab_type": "text"
      },
      "source": [
        "## Vectorized operations"
      ]
    },
    {
      "cell_type": "code",
      "metadata": {
        "id": "Za8vuwyNcey3",
        "colab_type": "code",
        "colab": {
          "base_uri": "https://localhost:8080/",
          "height": 34
        },
        "outputId": "145d3145-68d2-4d10-d230-bcf81f494f12"
      },
      "source": [
        "x.sum()"
      ],
      "execution_count": 49,
      "outputs": [
        {
          "output_type": "execute_result",
          "data": {
            "text/plain": [
              "150"
            ]
          },
          "metadata": {
            "tags": []
          },
          "execution_count": 49
        }
      ]
    },
    {
      "cell_type": "code",
      "metadata": {
        "id": "K69RrJZ7cey5",
        "colab_type": "code",
        "colab": {
          "base_uri": "https://localhost:8080/",
          "height": 34
        },
        "outputId": "98235dfc-505f-4977-876a-627b9dff5456"
      },
      "source": [
        "x.mean()"
      ],
      "execution_count": 50,
      "outputs": [
        {
          "output_type": "execute_result",
          "data": {
            "text/plain": [
              "30.0"
            ]
          },
          "metadata": {
            "tags": []
          },
          "execution_count": 50
        }
      ]
    },
    {
      "cell_type": "code",
      "metadata": {
        "id": "lkxpVnfecey7",
        "colab_type": "code",
        "colab": {
          "base_uri": "https://localhost:8080/",
          "height": 34
        },
        "outputId": "5424a833-e37e-433c-c623-5bb4bba92d0f"
      },
      "source": [
        "x.max()"
      ],
      "execution_count": 51,
      "outputs": [
        {
          "output_type": "execute_result",
          "data": {
            "text/plain": [
              "50"
            ]
          },
          "metadata": {
            "tags": []
          },
          "execution_count": 51
        }
      ]
    },
    {
      "cell_type": "code",
      "metadata": {
        "id": "mS0Jh3cjcey9",
        "colab_type": "code",
        "colab": {
          "base_uri": "https://localhost:8080/",
          "height": 34
        },
        "outputId": "69ab0e5d-3e14-46a2-dc50-b6ed1102bc89"
      },
      "source": [
        "x.argmax()"
      ],
      "execution_count": 52,
      "outputs": [
        {
          "output_type": "execute_result",
          "data": {
            "text/plain": [
              "4"
            ]
          },
          "metadata": {
            "tags": []
          },
          "execution_count": 52
        }
      ]
    },
    {
      "cell_type": "code",
      "metadata": {
        "id": "-PaESH5Zcey_",
        "colab_type": "code",
        "colab": {
          "base_uri": "https://localhost:8080/",
          "height": 34
        },
        "outputId": "174376c0-731f-41b2-b137-524242e60658"
      },
      "source": [
        "np.log(x)"
      ],
      "execution_count": 53,
      "outputs": [
        {
          "output_type": "execute_result",
          "data": {
            "text/plain": [
              "array([2.30258509, 2.99573227, 3.40119738, 3.68887945, 3.91202301])"
            ]
          },
          "metadata": {
            "tags": []
          },
          "execution_count": 53
        }
      ]
    },
    {
      "cell_type": "code",
      "metadata": {
        "id": "ip7-nN86cezB",
        "colab_type": "code",
        "colab": {
          "base_uri": "https://localhost:8080/",
          "height": 51
        },
        "outputId": "eff370c6-8b17-44b3-8862-2836090bb2f2"
      },
      "source": [
        "np.exp(x)"
      ],
      "execution_count": 54,
      "outputs": [
        {
          "output_type": "execute_result",
          "data": {
            "text/plain": [
              "array([2.20264658e+04, 4.85165195e+08, 1.06864746e+13, 2.35385267e+17,\n",
              "       5.18470553e+21])"
            ]
          },
          "metadata": {
            "tags": []
          },
          "execution_count": 54
        }
      ]
    },
    {
      "cell_type": "code",
      "metadata": {
        "id": "0ZFQkc-AcezD",
        "colab_type": "code",
        "colab": {
          "base_uri": "https://localhost:8080/",
          "height": 34
        },
        "outputId": "bad122c8-c33e-4b01-f662-e7331b684ffa"
      },
      "source": [
        "x + x  # Try also with *, -, /, etc."
      ],
      "execution_count": 55,
      "outputs": [
        {
          "output_type": "execute_result",
          "data": {
            "text/plain": [
              "array([ 20,  40,  60,  80, 100])"
            ]
          },
          "metadata": {
            "tags": []
          },
          "execution_count": 55
        }
      ]
    },
    {
      "cell_type": "code",
      "metadata": {
        "id": "nZ5GxyIhcezF",
        "colab_type": "code",
        "colab": {
          "base_uri": "https://localhost:8080/",
          "height": 34
        },
        "outputId": "574592d1-05fd-400f-8443-cb817e470188"
      },
      "source": [
        "x + 1"
      ],
      "execution_count": 56,
      "outputs": [
        {
          "output_type": "execute_result",
          "data": {
            "text/plain": [
              "array([11, 21, 31, 41, 51])"
            ]
          },
          "metadata": {
            "tags": []
          },
          "execution_count": 56
        }
      ]
    },
    {
      "cell_type": "markdown",
      "metadata": {
        "id": "zs6vU2akcezH",
        "colab_type": "text"
      },
      "source": [
        "## Comparison with Python lists\n",
        "\n",
        "Vectorizing your mathematical expressions can lead to __huge__ performance gains. The following example is meant to give you a sense for this. It compares applying `np.log` to each element of a list with 10 million values with the same operation done on a vector."
      ]
    },
    {
      "cell_type": "code",
      "metadata": {
        "id": "4OdqZfmmcezH",
        "colab_type": "code",
        "colab": {}
      },
      "source": [
        "# log every value as list, one by one\n",
        "def listlog(vals):\n",
        "    return [np.log(y) for y in vals]"
      ],
      "execution_count": 0,
      "outputs": []
    },
    {
      "cell_type": "code",
      "metadata": {
        "id": "n5WfclY5cezJ",
        "colab_type": "code",
        "colab": {
          "base_uri": "https://localhost:8080/",
          "height": 51
        },
        "outputId": "471baf81-dbfd-4cec-fdab-d03d11804fd4"
      },
      "source": [
        "# get random vector\n",
        "samp = np.random.random_sample(int(1e7))+1\n",
        "samp"
      ],
      "execution_count": 58,
      "outputs": [
        {
          "output_type": "execute_result",
          "data": {
            "text/plain": [
              "array([1.87991793, 1.5599523 , 1.58181806, ..., 1.11931893, 1.04947345,\n",
              "       1.9703619 ])"
            ]
          },
          "metadata": {
            "tags": []
          },
          "execution_count": 58
        }
      ]
    },
    {
      "cell_type": "code",
      "metadata": {
        "id": "_LPfYQmVcezL",
        "colab_type": "code",
        "colab": {
          "base_uri": "https://localhost:8080/",
          "height": 51
        },
        "outputId": "49049d30-d1cc-4649-c387-2c1587245a4c"
      },
      "source": [
        "%time _ = np.log(samp)"
      ],
      "execution_count": 59,
      "outputs": [
        {
          "output_type": "stream",
          "text": [
            "CPU times: user 270 ms, sys: 54.6 ms, total: 324 ms\n",
            "Wall time: 326 ms\n"
          ],
          "name": "stdout"
        }
      ]
    },
    {
      "cell_type": "code",
      "metadata": {
        "id": "zqyua7TtcezN",
        "colab_type": "code",
        "colab": {
          "base_uri": "https://localhost:8080/",
          "height": 51
        },
        "outputId": "1101efb4-8a0c-4e6b-9cae-3afc2d50b330"
      },
      "source": [
        "%time _ = listlog(samp)"
      ],
      "execution_count": 60,
      "outputs": [
        {
          "output_type": "stream",
          "text": [
            "CPU times: user 13.4 s, sys: 1.4 s, total: 14.8 s\n",
            "Wall time: 14.8 s\n"
          ],
          "name": "stdout"
        }
      ]
    },
    {
      "cell_type": "markdown",
      "metadata": {
        "id": "7N2Qb465cezP",
        "colab_type": "text"
      },
      "source": [
        "# Matrices\n",
        "\n",
        "The matrix is the core object of machine learning implementations. "
      ]
    },
    {
      "cell_type": "markdown",
      "metadata": {
        "id": "7hXDQndvcezQ",
        "colab_type": "text"
      },
      "source": [
        "## Matrix initialization"
      ]
    },
    {
      "cell_type": "code",
      "metadata": {
        "id": "PBdcUl19cezQ",
        "colab_type": "code",
        "colab": {
          "base_uri": "https://localhost:8080/",
          "height": 51
        },
        "outputId": "035848f4-f037-4bbd-86a6-a1fcfc0173c4"
      },
      "source": [
        "np.array([[1,2,3], [4,5,6]])"
      ],
      "execution_count": 61,
      "outputs": [
        {
          "output_type": "execute_result",
          "data": {
            "text/plain": [
              "array([[1, 2, 3],\n",
              "       [4, 5, 6]])"
            ]
          },
          "metadata": {
            "tags": []
          },
          "execution_count": 61
        }
      ]
    },
    {
      "cell_type": "code",
      "metadata": {
        "id": "12HsP0cIcezT",
        "colab_type": "code",
        "colab": {
          "base_uri": "https://localhost:8080/",
          "height": 51
        },
        "outputId": "597b5cdc-7ebc-4293-c74d-d6a45d4db319"
      },
      "source": [
        "np.array([[1,2,3], [4,5,6]], dtype='float')"
      ],
      "execution_count": 62,
      "outputs": [
        {
          "output_type": "execute_result",
          "data": {
            "text/plain": [
              "array([[1., 2., 3.],\n",
              "       [4., 5., 6.]])"
            ]
          },
          "metadata": {
            "tags": []
          },
          "execution_count": 62
        }
      ]
    },
    {
      "cell_type": "code",
      "metadata": {
        "id": "m5UrV0_1cezV",
        "colab_type": "code",
        "colab": {
          "base_uri": "https://localhost:8080/",
          "height": 68
        },
        "outputId": "fdd8ee64-b413-46be-8294-b456b5ef1054"
      },
      "source": [
        "np.zeros((3,5))"
      ],
      "execution_count": 63,
      "outputs": [
        {
          "output_type": "execute_result",
          "data": {
            "text/plain": [
              "array([[0., 0., 0., 0., 0.],\n",
              "       [0., 0., 0., 0., 0.],\n",
              "       [0., 0., 0., 0., 0.]])"
            ]
          },
          "metadata": {
            "tags": []
          },
          "execution_count": 63
        }
      ]
    },
    {
      "cell_type": "code",
      "metadata": {
        "id": "hT-rH_SecezW",
        "colab_type": "code",
        "colab": {
          "base_uri": "https://localhost:8080/",
          "height": 68
        },
        "outputId": "60ebfdef-0907-4a90-b22e-0f57990f2a92"
      },
      "source": [
        "np.ones((3,5))"
      ],
      "execution_count": 64,
      "outputs": [
        {
          "output_type": "execute_result",
          "data": {
            "text/plain": [
              "array([[1., 1., 1., 1., 1.],\n",
              "       [1., 1., 1., 1., 1.],\n",
              "       [1., 1., 1., 1., 1.]])"
            ]
          },
          "metadata": {
            "tags": []
          },
          "execution_count": 64
        }
      ]
    },
    {
      "cell_type": "code",
      "metadata": {
        "id": "Q2_gUgi_cezZ",
        "colab_type": "code",
        "colab": {
          "base_uri": "https://localhost:8080/",
          "height": 68
        },
        "outputId": "2a81a378-c23a-4df5-a9aa-d77a62a35542"
      },
      "source": [
        "np.identity(3)"
      ],
      "execution_count": 65,
      "outputs": [
        {
          "output_type": "execute_result",
          "data": {
            "text/plain": [
              "array([[1., 0., 0.],\n",
              "       [0., 1., 0.],\n",
              "       [0., 0., 1.]])"
            ]
          },
          "metadata": {
            "tags": []
          },
          "execution_count": 65
        }
      ]
    },
    {
      "cell_type": "code",
      "metadata": {
        "id": "G7hIPa0-ceze",
        "colab_type": "code",
        "colab": {
          "base_uri": "https://localhost:8080/",
          "height": 68
        },
        "outputId": "5cec1c59-0524-4864-9621-e787fa4468c8"
      },
      "source": [
        "np.diag([1,2,3])"
      ],
      "execution_count": 66,
      "outputs": [
        {
          "output_type": "execute_result",
          "data": {
            "text/plain": [
              "array([[1, 0, 0],\n",
              "       [0, 2, 0],\n",
              "       [0, 0, 3]])"
            ]
          },
          "metadata": {
            "tags": []
          },
          "execution_count": 66
        }
      ]
    },
    {
      "cell_type": "markdown",
      "metadata": {
        "id": "lGTcCSKPcezf",
        "colab_type": "text"
      },
      "source": [
        "## Matrix indexing"
      ]
    },
    {
      "cell_type": "code",
      "metadata": {
        "id": "Zh6fdye0cezg",
        "colab_type": "code",
        "colab": {
          "base_uri": "https://localhost:8080/",
          "height": 51
        },
        "outputId": "12539d9f-647e-456b-b598-b017a4629b55"
      },
      "source": [
        "X = np.array([[1,2,3], [4,5,6]])\n",
        "X"
      ],
      "execution_count": 67,
      "outputs": [
        {
          "output_type": "execute_result",
          "data": {
            "text/plain": [
              "array([[1, 2, 3],\n",
              "       [4, 5, 6]])"
            ]
          },
          "metadata": {
            "tags": []
          },
          "execution_count": 67
        }
      ]
    },
    {
      "cell_type": "code",
      "metadata": {
        "id": "2tOH4Ei9cezl",
        "colab_type": "code",
        "colab": {
          "base_uri": "https://localhost:8080/",
          "height": 34
        },
        "outputId": "bef748dc-9526-4936-bd39-4260d30c531a"
      },
      "source": [
        "X[0]"
      ],
      "execution_count": 68,
      "outputs": [
        {
          "output_type": "execute_result",
          "data": {
            "text/plain": [
              "array([1, 2, 3])"
            ]
          },
          "metadata": {
            "tags": []
          },
          "execution_count": 68
        }
      ]
    },
    {
      "cell_type": "code",
      "metadata": {
        "id": "V34HdSaCcezn",
        "colab_type": "code",
        "colab": {
          "base_uri": "https://localhost:8080/",
          "height": 34
        },
        "outputId": "ffbb02a3-5da1-4599-ee9b-4d100d2f60b6"
      },
      "source": [
        "X[0,0]"
      ],
      "execution_count": 69,
      "outputs": [
        {
          "output_type": "execute_result",
          "data": {
            "text/plain": [
              "1"
            ]
          },
          "metadata": {
            "tags": []
          },
          "execution_count": 69
        }
      ]
    },
    {
      "cell_type": "code",
      "metadata": {
        "id": "fGoDA_N6cezp",
        "colab_type": "code",
        "colab": {
          "base_uri": "https://localhost:8080/",
          "height": 34
        },
        "outputId": "b7c8ef7f-2f16-4bb1-ad2c-4482093256a1"
      },
      "source": [
        "# get row\n",
        "X[0, : ]"
      ],
      "execution_count": 70,
      "outputs": [
        {
          "output_type": "execute_result",
          "data": {
            "text/plain": [
              "array([1, 2, 3])"
            ]
          },
          "metadata": {
            "tags": []
          },
          "execution_count": 70
        }
      ]
    },
    {
      "cell_type": "code",
      "metadata": {
        "id": "MIxtFslscezr",
        "colab_type": "code",
        "colab": {
          "base_uri": "https://localhost:8080/",
          "height": 34
        },
        "outputId": "c7a49757-d8f9-4dd6-9454-7e2d078fdc6d"
      },
      "source": [
        "# get column\n",
        "X[ : , 0]"
      ],
      "execution_count": 71,
      "outputs": [
        {
          "output_type": "execute_result",
          "data": {
            "text/plain": [
              "array([1, 4])"
            ]
          },
          "metadata": {
            "tags": []
          },
          "execution_count": 71
        }
      ]
    },
    {
      "cell_type": "code",
      "metadata": {
        "id": "5VS7alaTcezs",
        "colab_type": "code",
        "colab": {
          "base_uri": "https://localhost:8080/",
          "height": 51
        },
        "outputId": "622d8bdf-c717-4123-c558-2ad53c796791"
      },
      "source": [
        "# get multiple columns\n",
        "X[ : , [0,2]]"
      ],
      "execution_count": 72,
      "outputs": [
        {
          "output_type": "execute_result",
          "data": {
            "text/plain": [
              "array([[1, 3],\n",
              "       [4, 6]])"
            ]
          },
          "metadata": {
            "tags": []
          },
          "execution_count": 72
        }
      ]
    },
    {
      "cell_type": "markdown",
      "metadata": {
        "id": "oCihzE5Bcezu",
        "colab_type": "text"
      },
      "source": [
        "## Matrix assignment"
      ]
    },
    {
      "cell_type": "code",
      "metadata": {
        "id": "45JWeyRjcezv",
        "colab_type": "code",
        "colab": {
          "base_uri": "https://localhost:8080/",
          "height": 51
        },
        "outputId": "3143641d-2450-411d-8e62-7b7bde9576dc"
      },
      "source": [
        "# X2 = X # try this line instead\n",
        "X2 = X.copy()\n",
        "\n",
        "X2"
      ],
      "execution_count": 73,
      "outputs": [
        {
          "output_type": "execute_result",
          "data": {
            "text/plain": [
              "array([[1, 2, 3],\n",
              "       [4, 5, 6]])"
            ]
          },
          "metadata": {
            "tags": []
          },
          "execution_count": 73
        }
      ]
    },
    {
      "cell_type": "code",
      "metadata": {
        "id": "i42QDZJBcezx",
        "colab_type": "code",
        "colab": {
          "base_uri": "https://localhost:8080/",
          "height": 51
        },
        "outputId": "52b64911-a7c3-44ca-e20d-c69fcadefed7"
      },
      "source": [
        "X2[0,0] = 20\n",
        "\n",
        "X2"
      ],
      "execution_count": 74,
      "outputs": [
        {
          "output_type": "execute_result",
          "data": {
            "text/plain": [
              "array([[20,  2,  3],\n",
              "       [ 4,  5,  6]])"
            ]
          },
          "metadata": {
            "tags": []
          },
          "execution_count": 74
        }
      ]
    },
    {
      "cell_type": "code",
      "metadata": {
        "id": "_8-9cP_4cezy",
        "colab_type": "code",
        "colab": {
          "base_uri": "https://localhost:8080/",
          "height": 51
        },
        "outputId": "1d6df961-f387-4a02-ebb9-3baa113f73cb"
      },
      "source": [
        "X2[0] = 3\n",
        "\n",
        "X2"
      ],
      "execution_count": 75,
      "outputs": [
        {
          "output_type": "execute_result",
          "data": {
            "text/plain": [
              "array([[3, 3, 3],\n",
              "       [4, 5, 6]])"
            ]
          },
          "metadata": {
            "tags": []
          },
          "execution_count": 75
        }
      ]
    },
    {
      "cell_type": "code",
      "metadata": {
        "id": "DKKLd4Ymcez0",
        "colab_type": "code",
        "colab": {
          "base_uri": "https://localhost:8080/",
          "height": 51
        },
        "outputId": "3e8f4326-723b-45e8-f9c1-c8fe1ea84d84"
      },
      "source": [
        "X2[: , -1] = [5, 6]\n",
        "\n",
        "X2"
      ],
      "execution_count": 76,
      "outputs": [
        {
          "output_type": "execute_result",
          "data": {
            "text/plain": [
              "array([[3, 3, 5],\n",
              "       [4, 5, 6]])"
            ]
          },
          "metadata": {
            "tags": []
          },
          "execution_count": 76
        }
      ]
    },
    {
      "cell_type": "code",
      "metadata": {
        "id": "oRvGIVTJcez1",
        "colab_type": "code",
        "colab": {
          "base_uri": "https://localhost:8080/",
          "height": 51
        },
        "outputId": "20979db2-20a2-4eab-9758-24dbb0c8e3f3"
      },
      "source": [
        "# check if original matrix changed\n",
        "X"
      ],
      "execution_count": 77,
      "outputs": [
        {
          "output_type": "execute_result",
          "data": {
            "text/plain": [
              "array([[1, 2, 3],\n",
              "       [4, 5, 6]])"
            ]
          },
          "metadata": {
            "tags": []
          },
          "execution_count": 77
        }
      ]
    },
    {
      "cell_type": "markdown",
      "metadata": {
        "id": "YipO754Qcez4",
        "colab_type": "text"
      },
      "source": [
        "## Matrix reshaping"
      ]
    },
    {
      "cell_type": "code",
      "metadata": {
        "id": "iveodOZucez5",
        "colab_type": "code",
        "colab": {
          "base_uri": "https://localhost:8080/",
          "height": 34
        },
        "outputId": "428c19dd-3378-4b93-d872-39cd93ede186"
      },
      "source": [
        "z = np.arange(1, 7)\n",
        "\n",
        "z"
      ],
      "execution_count": 78,
      "outputs": [
        {
          "output_type": "execute_result",
          "data": {
            "text/plain": [
              "array([1, 2, 3, 4, 5, 6])"
            ]
          },
          "metadata": {
            "tags": []
          },
          "execution_count": 78
        }
      ]
    },
    {
      "cell_type": "code",
      "metadata": {
        "id": "8rH5cURJcez6",
        "colab_type": "code",
        "colab": {
          "base_uri": "https://localhost:8080/",
          "height": 34
        },
        "outputId": "be3b87fa-a3dc-4c5a-9865-2ecd89b19127"
      },
      "source": [
        "z.shape"
      ],
      "execution_count": 79,
      "outputs": [
        {
          "output_type": "execute_result",
          "data": {
            "text/plain": [
              "(6,)"
            ]
          },
          "metadata": {
            "tags": []
          },
          "execution_count": 79
        }
      ]
    },
    {
      "cell_type": "code",
      "metadata": {
        "id": "FyNvV3VOcez8",
        "colab_type": "code",
        "colab": {
          "base_uri": "https://localhost:8080/",
          "height": 51
        },
        "outputId": "77535949-b45e-4629-f0ab-a6ed52f4cbcf"
      },
      "source": [
        "Z = z.reshape(2,3)\n",
        "\n",
        "Z"
      ],
      "execution_count": 80,
      "outputs": [
        {
          "output_type": "execute_result",
          "data": {
            "text/plain": [
              "array([[1, 2, 3],\n",
              "       [4, 5, 6]])"
            ]
          },
          "metadata": {
            "tags": []
          },
          "execution_count": 80
        }
      ]
    },
    {
      "cell_type": "code",
      "metadata": {
        "id": "oEKLJc53cez9",
        "colab_type": "code",
        "colab": {
          "base_uri": "https://localhost:8080/",
          "height": 34
        },
        "outputId": "02dee30e-72ea-45c4-992d-764c1489935e"
      },
      "source": [
        "Z.shape"
      ],
      "execution_count": 81,
      "outputs": [
        {
          "output_type": "execute_result",
          "data": {
            "text/plain": [
              "(2, 3)"
            ]
          },
          "metadata": {
            "tags": []
          },
          "execution_count": 81
        }
      ]
    },
    {
      "cell_type": "code",
      "metadata": {
        "id": "Wicndzd-cez_",
        "colab_type": "code",
        "colab": {
          "base_uri": "https://localhost:8080/",
          "height": 34
        },
        "outputId": "f267e055-4b65-4279-aa7a-7423a54e6441"
      },
      "source": [
        "Z.reshape(6)"
      ],
      "execution_count": 82,
      "outputs": [
        {
          "output_type": "execute_result",
          "data": {
            "text/plain": [
              "array([1, 2, 3, 4, 5, 6])"
            ]
          },
          "metadata": {
            "tags": []
          },
          "execution_count": 82
        }
      ]
    },
    {
      "cell_type": "code",
      "metadata": {
        "id": "MTzvYxqfce0B",
        "colab_type": "code",
        "colab": {
          "base_uri": "https://localhost:8080/",
          "height": 34
        },
        "outputId": "c66374b0-e413-4b75-9ca5-a54998d60011"
      },
      "source": [
        "# same as above\n",
        "Z.flatten()"
      ],
      "execution_count": 83,
      "outputs": [
        {
          "output_type": "execute_result",
          "data": {
            "text/plain": [
              "array([1, 2, 3, 4, 5, 6])"
            ]
          },
          "metadata": {
            "tags": []
          },
          "execution_count": 83
        }
      ]
    },
    {
      "cell_type": "code",
      "metadata": {
        "id": "jf_1Ok8lce0C",
        "colab_type": "code",
        "colab": {
          "base_uri": "https://localhost:8080/",
          "height": 68
        },
        "outputId": "a0522e1c-d560-450b-cf18-42708a2efbac"
      },
      "source": [
        "# transpose\n",
        "Z.T"
      ],
      "execution_count": 84,
      "outputs": [
        {
          "output_type": "execute_result",
          "data": {
            "text/plain": [
              "array([[1, 4],\n",
              "       [2, 5],\n",
              "       [3, 6]])"
            ]
          },
          "metadata": {
            "tags": []
          },
          "execution_count": 84
        }
      ]
    },
    {
      "cell_type": "markdown",
      "metadata": {
        "id": "NTu6Kg3Rce0F",
        "colab_type": "text"
      },
      "source": [
        "## Numeric operations"
      ]
    },
    {
      "cell_type": "code",
      "metadata": {
        "id": "e_1wZNtvce0F",
        "colab_type": "code",
        "colab": {
          "base_uri": "https://localhost:8080/",
          "height": 51
        },
        "outputId": "3556e618-bf9d-45e2-eb2e-18ac12a18bc2"
      },
      "source": [
        "A = np.array(range(1,7), dtype='float').reshape(2,3)\n",
        "\n",
        "A"
      ],
      "execution_count": 85,
      "outputs": [
        {
          "output_type": "execute_result",
          "data": {
            "text/plain": [
              "array([[1., 2., 3.],\n",
              "       [4., 5., 6.]])"
            ]
          },
          "metadata": {
            "tags": []
          },
          "execution_count": 85
        }
      ]
    },
    {
      "cell_type": "code",
      "metadata": {
        "id": "PdUlxkK8ce0H",
        "colab_type": "code",
        "colab": {
          "base_uri": "https://localhost:8080/",
          "height": 34
        },
        "outputId": "6d2b268a-edf8-4851-d947-2711cbb5eca1"
      },
      "source": [
        "B = np.array([1, 2, 3])\n",
        "B"
      ],
      "execution_count": 87,
      "outputs": [
        {
          "output_type": "execute_result",
          "data": {
            "text/plain": [
              "array([1, 2, 3])"
            ]
          },
          "metadata": {
            "tags": []
          },
          "execution_count": 87
        }
      ]
    },
    {
      "cell_type": "code",
      "metadata": {
        "id": "PlTNK5J6ce0J",
        "colab_type": "code",
        "colab": {
          "base_uri": "https://localhost:8080/",
          "height": 51
        },
        "outputId": "3b166c21-b464-426b-a22b-2ec1878feadb"
      },
      "source": [
        "# not the same as A.dot(B)\n",
        "A * B"
      ],
      "execution_count": 88,
      "outputs": [
        {
          "output_type": "execute_result",
          "data": {
            "text/plain": [
              "array([[ 1.,  4.,  9.],\n",
              "       [ 4., 10., 18.]])"
            ]
          },
          "metadata": {
            "tags": []
          },
          "execution_count": 88
        }
      ]
    },
    {
      "cell_type": "code",
      "metadata": {
        "id": "-jzL6fiXce0L",
        "colab_type": "code",
        "colab": {
          "base_uri": "https://localhost:8080/",
          "height": 51
        },
        "outputId": "68e50cd1-990f-410d-dcf8-af3c6c22782d"
      },
      "source": [
        "A + B"
      ],
      "execution_count": 89,
      "outputs": [
        {
          "output_type": "execute_result",
          "data": {
            "text/plain": [
              "array([[2., 4., 6.],\n",
              "       [5., 7., 9.]])"
            ]
          },
          "metadata": {
            "tags": []
          },
          "execution_count": 89
        }
      ]
    },
    {
      "cell_type": "code",
      "metadata": {
        "id": "-4WzsLu9ce0P",
        "colab_type": "code",
        "colab": {
          "base_uri": "https://localhost:8080/",
          "height": 51
        },
        "outputId": "fb07d2d9-a0ee-4a7d-b618-f8e2f4394591"
      },
      "source": [
        "A / B"
      ],
      "execution_count": 90,
      "outputs": [
        {
          "output_type": "execute_result",
          "data": {
            "text/plain": [
              "array([[1. , 1. , 1. ],\n",
              "       [4. , 2.5, 2. ]])"
            ]
          },
          "metadata": {
            "tags": []
          },
          "execution_count": 90
        }
      ]
    },
    {
      "cell_type": "code",
      "metadata": {
        "id": "zdpn2B1tce0Q",
        "colab_type": "code",
        "colab": {
          "base_uri": "https://localhost:8080/",
          "height": 34
        },
        "outputId": "b8c967c2-04b8-4734-a729-9b3d6900bace"
      },
      "source": [
        "# matrix multiplication\n",
        "A.dot(B)"
      ],
      "execution_count": 91,
      "outputs": [
        {
          "output_type": "execute_result",
          "data": {
            "text/plain": [
              "array([14., 32.])"
            ]
          },
          "metadata": {
            "tags": []
          },
          "execution_count": 91
        }
      ]
    },
    {
      "cell_type": "code",
      "metadata": {
        "id": "G62RIGMDce0S",
        "colab_type": "code",
        "colab": {
          "base_uri": "https://localhost:8080/",
          "height": 34
        },
        "outputId": "df99b3ca-9c0b-4d29-d09f-373164e5795a"
      },
      "source": [
        "B.dot(A.T)"
      ],
      "execution_count": 92,
      "outputs": [
        {
          "output_type": "execute_result",
          "data": {
            "text/plain": [
              "array([14., 32.])"
            ]
          },
          "metadata": {
            "tags": []
          },
          "execution_count": 92
        }
      ]
    },
    {
      "cell_type": "code",
      "metadata": {
        "id": "iWddUlRxce0T",
        "colab_type": "code",
        "colab": {
          "base_uri": "https://localhost:8080/",
          "height": 51
        },
        "outputId": "278b198c-c976-4c11-8439-7b5e15641beb"
      },
      "source": [
        "A.dot(A.T)"
      ],
      "execution_count": 93,
      "outputs": [
        {
          "output_type": "execute_result",
          "data": {
            "text/plain": [
              "array([[14., 32.],\n",
              "       [32., 77.]])"
            ]
          },
          "metadata": {
            "tags": []
          },
          "execution_count": 93
        }
      ]
    },
    {
      "cell_type": "code",
      "metadata": {
        "id": "6eu1e5trce0V",
        "colab_type": "code",
        "colab": {
          "base_uri": "https://localhost:8080/",
          "height": 68
        },
        "outputId": "d8ec1620-2ddc-468a-8493-afec52fbe93a"
      },
      "source": [
        "# outer product\n",
        "# multiplying each element of first vector by each element of the second\n",
        "np.outer(B, B)"
      ],
      "execution_count": 94,
      "outputs": [
        {
          "output_type": "execute_result",
          "data": {
            "text/plain": [
              "array([[1, 2, 3],\n",
              "       [2, 4, 6],\n",
              "       [3, 6, 9]])"
            ]
          },
          "metadata": {
            "tags": []
          },
          "execution_count": 94
        }
      ]
    },
    {
      "cell_type": "markdown",
      "metadata": {
        "id": "eZK8Bx_Uce0W",
        "colab_type": "text"
      },
      "source": [
        "The following is a practical example of numerical operations on NumPy matrices. \n",
        "\n",
        "In our class, we have a shallow neural network implemented in `np_shallow_neural_network.py`. See how the forward and backward passes use no for loops, and instead takes advantage of NumPy's ability to vectorize manipulations of data. \n",
        "\n",
        "```python\n",
        "def forward_propagation(self, x):\n",
        "    h = self.hidden_activation(x.dot(self.W_xh) + self.b_xh)\n",
        "    y = softmax(h.dot(self.W_hy) + self.b_hy)\n",
        "    return h, y\n",
        "\n",
        "def backward_propagation(self, h, predictions, x, labels):\n",
        "    y_err = predictions.copy()\n",
        "    y_err[np.argmax(labels)] -= 1 # backprop for cross-entropy error: -log(prediction-for-correct-label)\n",
        "    d_b_hy = y_err\n",
        "    h_err = y_err.dot(self.W_hy.T) * self.d_hidden_activation(h)\n",
        "    d_W_hy = np.outer(h, y_err)\n",
        "    d_W_xh = np.outer(x, h_err)\n",
        "    d_b_xh = h_err\n",
        "    return d_W_hy, d_b_hy, d_W_xh, d_b_xh\n",
        "```\n",
        "\n",
        "The forward pass essentially computes the following: \n",
        "    $$h = f(xW_{xh} + b_{xh})$$\n",
        "    $$y = \\text{softmax}(hW_{hy} + b_{hy}),$$\n",
        "where $f$ is `self.hidden_activation`. \n",
        "\n",
        "The backward pass propagates error by computing local gradients and chaining them. Feel free to learn more about backprop [here](http://cs231n.github.io/optimization-2/), though it is not necessary for our class. Also look at this [neural networks case study](http://cs231n.github.io/neural-networks-case-study/) to see another example of how NumPy can be used to implement forward and backward passes of a simple neural network. "
      ]
    },
    {
      "cell_type": "markdown",
      "metadata": {
        "collapsed": true,
        "id": "dsvkL5JJce0X",
        "colab_type": "text"
      },
      "source": [
        "## Going beyond NumPy alone\n",
        "\n",
        "These are examples of how NumPy can be used with other Python packages. "
      ]
    },
    {
      "cell_type": "markdown",
      "metadata": {
        "id": "i7Yfl7f4ce0X",
        "colab_type": "text"
      },
      "source": [
        "### Pandas\n",
        "We can convert numpy matrices to Pandas dataframes. In the following example, this is useful because it allows us to label each row. You may have noticed this being done in our first unit on distributed representations. "
      ]
    },
    {
      "cell_type": "code",
      "metadata": {
        "id": "Is4vi3LOce0Y",
        "colab_type": "code",
        "colab": {}
      },
      "source": [
        "import pandas as pd"
      ],
      "execution_count": 0,
      "outputs": []
    },
    {
      "cell_type": "code",
      "metadata": {
        "id": "x8inswuSce0b",
        "colab_type": "code",
        "colab": {
          "base_uri": "https://localhost:8080/",
          "height": 204
        },
        "outputId": "98f13a4f-afd0-49f8-d997-668f0723c090"
      },
      "source": [
        "count_df = pd.DataFrame(\n",
        "    np.array([\n",
        "        [1,0,1,0,0,0],\n",
        "        [0,1,0,1,0,0],\n",
        "        [1,1,1,1,0,0],\n",
        "        [0,0,0,0,1,1],\n",
        "        [0,0,0,0,0,1]], dtype='float64'),\n",
        "    index=['gnarly', 'wicked', 'awesome', 'lame', 'terrible'])\n",
        "count_df"
      ],
      "execution_count": 96,
      "outputs": [
        {
          "output_type": "execute_result",
          "data": {
            "text/html": [
              "<div>\n",
              "<style scoped>\n",
              "    .dataframe tbody tr th:only-of-type {\n",
              "        vertical-align: middle;\n",
              "    }\n",
              "\n",
              "    .dataframe tbody tr th {\n",
              "        vertical-align: top;\n",
              "    }\n",
              "\n",
              "    .dataframe thead th {\n",
              "        text-align: right;\n",
              "    }\n",
              "</style>\n",
              "<table border=\"1\" class=\"dataframe\">\n",
              "  <thead>\n",
              "    <tr style=\"text-align: right;\">\n",
              "      <th></th>\n",
              "      <th>0</th>\n",
              "      <th>1</th>\n",
              "      <th>2</th>\n",
              "      <th>3</th>\n",
              "      <th>4</th>\n",
              "      <th>5</th>\n",
              "    </tr>\n",
              "  </thead>\n",
              "  <tbody>\n",
              "    <tr>\n",
              "      <th>gnarly</th>\n",
              "      <td>1.0</td>\n",
              "      <td>0.0</td>\n",
              "      <td>1.0</td>\n",
              "      <td>0.0</td>\n",
              "      <td>0.0</td>\n",
              "      <td>0.0</td>\n",
              "    </tr>\n",
              "    <tr>\n",
              "      <th>wicked</th>\n",
              "      <td>0.0</td>\n",
              "      <td>1.0</td>\n",
              "      <td>0.0</td>\n",
              "      <td>1.0</td>\n",
              "      <td>0.0</td>\n",
              "      <td>0.0</td>\n",
              "    </tr>\n",
              "    <tr>\n",
              "      <th>awesome</th>\n",
              "      <td>1.0</td>\n",
              "      <td>1.0</td>\n",
              "      <td>1.0</td>\n",
              "      <td>1.0</td>\n",
              "      <td>0.0</td>\n",
              "      <td>0.0</td>\n",
              "    </tr>\n",
              "    <tr>\n",
              "      <th>lame</th>\n",
              "      <td>0.0</td>\n",
              "      <td>0.0</td>\n",
              "      <td>0.0</td>\n",
              "      <td>0.0</td>\n",
              "      <td>1.0</td>\n",
              "      <td>1.0</td>\n",
              "    </tr>\n",
              "    <tr>\n",
              "      <th>terrible</th>\n",
              "      <td>0.0</td>\n",
              "      <td>0.0</td>\n",
              "      <td>0.0</td>\n",
              "      <td>0.0</td>\n",
              "      <td>0.0</td>\n",
              "      <td>1.0</td>\n",
              "    </tr>\n",
              "  </tbody>\n",
              "</table>\n",
              "</div>"
            ],
            "text/plain": [
              "            0    1    2    3    4    5\n",
              "gnarly    1.0  0.0  1.0  0.0  0.0  0.0\n",
              "wicked    0.0  1.0  0.0  1.0  0.0  0.0\n",
              "awesome   1.0  1.0  1.0  1.0  0.0  0.0\n",
              "lame      0.0  0.0  0.0  0.0  1.0  1.0\n",
              "terrible  0.0  0.0  0.0  0.0  0.0  1.0"
            ]
          },
          "metadata": {
            "tags": []
          },
          "execution_count": 96
        }
      ]
    },
    {
      "cell_type": "markdown",
      "metadata": {
        "id": "_XAkpulYce0d",
        "colab_type": "text"
      },
      "source": [
        "### Scikit-learn\n",
        "\n",
        "In `sklearn`, NumPy matrices are the most common input and output and thus a key to how the library's numerous methods can work together. Many of the cs224u's model built by Chris operate just like `sklearn` ones, such as the classifiers we used for our sentiment analysis unit. "
      ]
    },
    {
      "cell_type": "code",
      "metadata": {
        "id": "ikbRUHa3ce0e",
        "colab_type": "code",
        "colab": {}
      },
      "source": [
        "from sklearn.linear_model import LogisticRegression\n",
        "from sklearn.model_selection import train_test_split\n",
        "from sklearn.metrics import classification_report\n",
        "from sklearn import datasets"
      ],
      "execution_count": 0,
      "outputs": []
    },
    {
      "cell_type": "code",
      "metadata": {
        "id": "IFFKTVomce0f",
        "colab_type": "code",
        "colab": {
          "base_uri": "https://localhost:8080/",
          "height": 85
        },
        "outputId": "cc1b4785-99d0-4871-fa62-887098c3074f"
      },
      "source": [
        "iris = datasets.load_iris()\n",
        "X = iris.data\n",
        "y = iris.target\n",
        "print(type(X))\n",
        "print(\"Dimensions of X:\", X.shape)\n",
        "print(type(y))\n",
        "print(\"Dimensions of y:\", y.shape)"
      ],
      "execution_count": 98,
      "outputs": [
        {
          "output_type": "stream",
          "text": [
            "<class 'numpy.ndarray'>\n",
            "Dimensions of X: (150, 4)\n",
            "<class 'numpy.ndarray'>\n",
            "Dimensions of y: (150,)\n"
          ],
          "name": "stdout"
        }
      ]
    },
    {
      "cell_type": "code",
      "metadata": {
        "id": "zWcs_QNKce0h",
        "colab_type": "code",
        "colab": {
          "base_uri": "https://localhost:8080/",
          "height": 238
        },
        "outputId": "2f554a7d-dd02-4958-b58f-2835010569ec"
      },
      "source": [
        "# split data into train/test\n",
        "X_iris_train, X_iris_test, y_iris_train, y_iris_test = train_test_split(\n",
        "    X, y, train_size=0.7, test_size=0.3)\n",
        "print(\"X_iris_train:\", type(X_iris_train))\n",
        "print(\"y_iris_train:\", type(y_iris_train))\n",
        "print()\n",
        "\n",
        "# start up model\n",
        "maxent = LogisticRegression(fit_intercept=True, \n",
        "        solver='liblinear', \n",
        "        multi_class='auto')\n",
        "\n",
        "# train on train set\n",
        "maxent.fit(X_iris_train, y_iris_train)\n",
        "\n",
        "# predict on test set\n",
        "iris_predictions = maxent.predict(X_iris_test)\n",
        "fnames_iris = iris['feature_names']\n",
        "tnames_iris = iris['target_names']\n",
        "\n",
        "# how well did our model do?\n",
        "print(classification_report(y_iris_test, iris_predictions, target_names=tnames_iris))"
      ],
      "execution_count": 99,
      "outputs": [
        {
          "output_type": "stream",
          "text": [
            "X_iris_train: <class 'numpy.ndarray'>\n",
            "y_iris_train: <class 'numpy.ndarray'>\n",
            "\n",
            "              precision    recall  f1-score   support\n",
            "\n",
            "      setosa       1.00      1.00      1.00        13\n",
            "  versicolor       1.00      0.94      0.97        16\n",
            "   virginica       0.94      1.00      0.97        16\n",
            "\n",
            "    accuracy                           0.98        45\n",
            "   macro avg       0.98      0.98      0.98        45\n",
            "weighted avg       0.98      0.98      0.98        45\n",
            "\n"
          ],
          "name": "stdout"
        }
      ]
    },
    {
      "cell_type": "markdown",
      "metadata": {
        "id": "o5L2lhPece0i",
        "colab_type": "text"
      },
      "source": [
        "### SciPy\n",
        "\n",
        "SciPy contains what may seem like an endless treasure trove of operations for linear algebra, optimization, and more.  It is built so that everything can work with NumPy arrays. "
      ]
    },
    {
      "cell_type": "code",
      "metadata": {
        "id": "WOiYe1rEce0j",
        "colab_type": "code",
        "colab": {}
      },
      "source": [
        "from scipy.spatial.distance import cosine\n",
        "from scipy.stats import pearsonr\n",
        "from scipy import linalg"
      ],
      "execution_count": 0,
      "outputs": []
    },
    {
      "cell_type": "code",
      "metadata": {
        "id": "XCMewWa0ce0k",
        "colab_type": "code",
        "colab": {
          "base_uri": "https://localhost:8080/",
          "height": 34
        },
        "outputId": "7e1eb24a-993e-4def-802b-c785cf3205a9"
      },
      "source": [
        "# cosine distance\n",
        "a = np.random.random(10)\n",
        "b = np.random.random(10)\n",
        "cosine(a, b)"
      ],
      "execution_count": 101,
      "outputs": [
        {
          "output_type": "execute_result",
          "data": {
            "text/plain": [
              "0.053151565744098184"
            ]
          },
          "metadata": {
            "tags": []
          },
          "execution_count": 101
        }
      ]
    },
    {
      "cell_type": "code",
      "metadata": {
        "id": "2CkLhVZ9ce0o",
        "colab_type": "code",
        "colab": {
          "base_uri": "https://localhost:8080/",
          "height": 34
        },
        "outputId": "f0f413ca-1d11-459d-e1f7-453f10b54401"
      },
      "source": [
        "# pearson correlation (coeff, p-value)\n",
        "pearsonr(a, b)"
      ],
      "execution_count": 102,
      "outputs": [
        {
          "output_type": "execute_result",
          "data": {
            "text/plain": [
              "(0.8084254711271495, 0.004643362693321033)"
            ]
          },
          "metadata": {
            "tags": []
          },
          "execution_count": 102
        }
      ]
    },
    {
      "cell_type": "code",
      "metadata": {
        "id": "zTUdqwddce0s",
        "colab_type": "code",
        "colab": {
          "base_uri": "https://localhost:8080/",
          "height": 68
        },
        "outputId": "898b1a22-c01c-4171-b64a-5466fc00e4c6"
      },
      "source": [
        "# inverse of matrix\n",
        "A = np.array([[1,3,5],[2,5,1],[2,3,8]])\n",
        "linalg.inv(A)"
      ],
      "execution_count": 103,
      "outputs": [
        {
          "output_type": "execute_result",
          "data": {
            "text/plain": [
              "array([[-1.48,  0.36,  0.88],\n",
              "       [ 0.56,  0.08, -0.36],\n",
              "       [ 0.16, -0.12,  0.04]])"
            ]
          },
          "metadata": {
            "tags": []
          },
          "execution_count": 103
        }
      ]
    },
    {
      "cell_type": "markdown",
      "metadata": {
        "id": "vcNJRrSUce0t",
        "colab_type": "text"
      },
      "source": [
        "To learn more about how NumPy can be combined with SciPy and Scikit-learn for machine learning, check out this [notebook tutorial](https://github.com/cgpotts/csli-summer/blob/master/advanced_python/intro_to_python_ml.ipynb) by Chris Potts and Will Monroe. (You may notice that over half of this current notebook is modified from theirs.) Their tutorial also has some interesting exercises in it! "
      ]
    },
    {
      "cell_type": "markdown",
      "metadata": {
        "id": "voXxtiAuce0u",
        "colab_type": "text"
      },
      "source": [
        "### Matplotlib"
      ]
    },
    {
      "cell_type": "code",
      "metadata": {
        "id": "iaNkvPxBce0w",
        "colab_type": "code",
        "colab": {}
      },
      "source": [
        "import matplotlib.pyplot as plt"
      ],
      "execution_count": 0,
      "outputs": []
    },
    {
      "cell_type": "code",
      "metadata": {
        "id": "gkcdxVCgce0x",
        "colab_type": "code",
        "colab": {
          "base_uri": "https://localhost:8080/",
          "height": 281
        },
        "outputId": "4aa17cb5-33ac-43d4-f6dd-1045f05bfab5"
      },
      "source": [
        "a = np.sort(np.random.random(30))\n",
        "b = a**2\n",
        "c = np.log(a)\n",
        "plt.plot(a, b, label='y = x^2')\n",
        "plt.plot(a, c, label='y = log(x)')\n",
        "plt.legend()\n",
        "plt.title(\"Some functions\")\n",
        "plt.show()"
      ],
      "execution_count": 108,
      "outputs": [
        {
          "output_type": "display_data",
          "data": {
            "image/png": "[encoded data removed]",
            "text/plain": [
              "<Figure size 432x288 with 1 Axes>"
            ]
          },
          "metadata": {
            "tags": []
          }
        }
      ]
    },
    {
      "cell_type": "code",
      "metadata": {
        "id": "IdFaNsWxce00",
        "colab_type": "code",
        "colab": {}
      },
      "source": [
        ""
      ],
      "execution_count": 0,
      "outputs": []
    }
  ]
}